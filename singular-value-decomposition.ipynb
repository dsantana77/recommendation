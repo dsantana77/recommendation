{
 "cells": [
  {
   "cell_type": "markdown",
   "metadata": {
    "id": "fe5-urbvNzeh"
   },
   "source": [
    "# Recommendation with SVD (_Singular Value Decomposition_)\n",
    "\n",
    "In this notebook we will explore `FunkSVD`, a matrix factorization algorithm made famous in the [Netflix Prize Challenge](https://www.thrillist.com/entertainment/nation/the-netflix-prize) (2006). If you want to explore the implementation of the algorithm, visit [this repository](https://github.com/gbolmier/funk-svd).\n",
    "\n",
    "**Note**: To install the `funk_svd` library, uncomment the line below and run the cell."
   ]
  },
  {
   "cell_type": "code",
   "execution_count": 1,
   "metadata": {
    "executionInfo": {
     "elapsed": 372,
     "status": "ok",
     "timestamp": 1670114101327,
     "user": {
      "displayName": "João Felipe Guedes da Silva",
      "userId": "13393236569075240373"
     },
     "user_tz": 180
    },
    "id": "iIxhKFL_Nzem"
   },
   "outputs": [],
   "source": [
    "#!pip install git+https://github.com/gbolmier/funk-svd"
   ]
  },
  {
   "cell_type": "code",
   "execution_count": 2,
   "metadata": {
    "executionInfo": {
     "elapsed": 1554,
     "status": "ok",
     "timestamp": 1670113756672,
     "user": {
      "displayName": "João Felipe Guedes da Silva",
      "userId": "13393236569075240373"
     },
     "user_tz": 180
    },
    "id": "M-mFpU1JNzeo"
   },
   "outputs": [],
   "source": [
    "import os\n",
    "import re\n",
    "import pandas as pd\n",
    "import numpy as np\n",
    "#from google.colab import files\n",
    "from funk_svd import SVD\n",
    "import matplotlib.pyplot as plt\n",
    "import matplotlib\n",
    "from cycler import cycler\n",
    "\n",
    "matplotlib.rcParams['axes.prop_cycle'] = cycler(color=['#007efd', '#FFC000', '#303030'])"
   ]
  },
  {
   "cell_type": "markdown",
   "metadata": {
    "id": "OI9-bP2mNzep"
   },
   "source": [
    "# Loading the dataset\n",
    "\n",
    "In this practical example we will use `MovieLens`, a dataset that contains user reviews for films that was explored in module **01 - Introduction to Recommendation Systems**. In particular, we will load the following files:\n",
    "\n",
    "- `ratings.parquet`: user ratings for films\n",
    "- `movies.parquet`: movie metadata"
   ]
  },
  {
   "cell_type": "markdown",
   "metadata": {
    "id": "-0f2IjhmNzeq"
   },
   "source": [
    "## User reviews archive\n",
    "\n",
    "Upload file `ratings.parquet`"
   ]
  },
  {
   "cell_type": "code",
   "execution_count": 3,
   "metadata": {
    "colab": {
     "base_uri": "https://localhost:8080/",
     "height": 109
    },
    "executionInfo": {
     "elapsed": 81749,
     "status": "ok",
     "timestamp": 1670113841947,
     "user": {
      "displayName": "João Felipe Guedes da Silva",
      "userId": "13393236569075240373"
     },
     "user_tz": 180
    },
    "id": "tt8YMzT_Ogq7",
    "outputId": "1c607d11-199d-46c3-c90c-c2efd4e8b6f9"
   },
   "outputs": [],
   "source": [
    "import pyarrow.parquet as pq"
   ]
  },
  {
   "cell_type": "code",
   "execution_count": 4,
   "metadata": {
    "colab": {
     "base_uri": "https://localhost:8080/",
     "height": 206
    },
    "executionInfo": {
     "elapsed": 10,
     "status": "ok",
     "timestamp": 1670113841947,
     "user": {
      "displayName": "João Felipe Guedes da Silva",
      "userId": "13393236569075240373"
     },
     "user_tz": 180
    },
    "id": "w6MwSMpgNzeq",
    "outputId": "5bfceaaa-f019-4545-cb19-51f9f63e46ad",
    "scrolled": true
   },
   "outputs": [
    {
     "data": {
      "text/html": [
       "<div>\n",
       "<style scoped>\n",
       "    .dataframe tbody tr th:only-of-type {\n",
       "        vertical-align: middle;\n",
       "    }\n",
       "\n",
       "    .dataframe tbody tr th {\n",
       "        vertical-align: top;\n",
       "    }\n",
       "\n",
       "    .dataframe thead th {\n",
       "        text-align: right;\n",
       "    }\n",
       "</style>\n",
       "<table border=\"1\" class=\"dataframe\">\n",
       "  <thead>\n",
       "    <tr style=\"text-align: right;\">\n",
       "      <th></th>\n",
       "      <th>user_id</th>\n",
       "      <th>item_id</th>\n",
       "      <th>rating</th>\n",
       "      <th>timestamp</th>\n",
       "    </tr>\n",
       "  </thead>\n",
       "  <tbody>\n",
       "    <tr>\n",
       "      <th>1000204</th>\n",
       "      <td>6040</td>\n",
       "      <td>1091</td>\n",
       "      <td>1</td>\n",
       "      <td>956716541</td>\n",
       "    </tr>\n",
       "    <tr>\n",
       "      <th>1000205</th>\n",
       "      <td>6040</td>\n",
       "      <td>1094</td>\n",
       "      <td>5</td>\n",
       "      <td>956704887</td>\n",
       "    </tr>\n",
       "    <tr>\n",
       "      <th>1000206</th>\n",
       "      <td>6040</td>\n",
       "      <td>562</td>\n",
       "      <td>5</td>\n",
       "      <td>956704746</td>\n",
       "    </tr>\n",
       "    <tr>\n",
       "      <th>1000207</th>\n",
       "      <td>6040</td>\n",
       "      <td>1096</td>\n",
       "      <td>4</td>\n",
       "      <td>956715648</td>\n",
       "    </tr>\n",
       "    <tr>\n",
       "      <th>1000208</th>\n",
       "      <td>6040</td>\n",
       "      <td>1097</td>\n",
       "      <td>4</td>\n",
       "      <td>956715569</td>\n",
       "    </tr>\n",
       "  </tbody>\n",
       "</table>\n",
       "</div>"
      ],
      "text/plain": [
       "         user_id  item_id  rating  timestamp\n",
       "1000204     6040     1091       1  956716541\n",
       "1000205     6040     1094       5  956704887\n",
       "1000206     6040      562       5  956704746\n",
       "1000207     6040     1096       4  956715648\n",
       "1000208     6040     1097       4  956715569"
      ]
     },
     "execution_count": 4,
     "metadata": {},
     "output_type": "execute_result"
    }
   ],
   "source": [
    "df_ratings = pd.read_parquet('ratings.parquet')\n",
    "df_ratings.tail()"
   ]
  },
  {
   "cell_type": "markdown",
   "metadata": {
    "id": "AMnN3IjHNzer"
   },
   "source": [
    "## Item metadata file\n",
    "\n",
    "Upload file `movies.parquet`"
   ]
  },
  {
   "cell_type": "code",
   "execution_count": 5,
   "metadata": {
    "colab": {
     "base_uri": "https://localhost:8080/",
     "height": 109
    },
    "executionInfo": {
     "elapsed": 8603,
     "status": "ok",
     "timestamp": 1670113944514,
     "user": {
      "displayName": "João Felipe Guedes da Silva",
      "userId": "13393236569075240373"
     },
     "user_tz": 180
    },
    "id": "voeAzi8uPb17",
    "outputId": "da571500-f3c7-4ece-eb08-efe9e951b983"
   },
   "outputs": [
    {
     "data": {
      "text/html": [
       "<div>\n",
       "<style scoped>\n",
       "    .dataframe tbody tr th:only-of-type {\n",
       "        vertical-align: middle;\n",
       "    }\n",
       "\n",
       "    .dataframe tbody tr th {\n",
       "        vertical-align: top;\n",
       "    }\n",
       "\n",
       "    .dataframe thead th {\n",
       "        text-align: right;\n",
       "    }\n",
       "</style>\n",
       "<table border=\"1\" class=\"dataframe\">\n",
       "  <thead>\n",
       "    <tr style=\"text-align: right;\">\n",
       "      <th></th>\n",
       "      <th>item_id</th>\n",
       "      <th>title</th>\n",
       "      <th>genres</th>\n",
       "    </tr>\n",
       "  </thead>\n",
       "  <tbody>\n",
       "    <tr>\n",
       "      <th>3878</th>\n",
       "      <td>3948</td>\n",
       "      <td>Meet the Parents (2000)</td>\n",
       "      <td>Comedy</td>\n",
       "    </tr>\n",
       "    <tr>\n",
       "      <th>3879</th>\n",
       "      <td>3949</td>\n",
       "      <td>Requiem for a Dream (2000)</td>\n",
       "      <td>Drama</td>\n",
       "    </tr>\n",
       "    <tr>\n",
       "      <th>3880</th>\n",
       "      <td>3950</td>\n",
       "      <td>Tigerland (2000)</td>\n",
       "      <td>Drama</td>\n",
       "    </tr>\n",
       "    <tr>\n",
       "      <th>3881</th>\n",
       "      <td>3951</td>\n",
       "      <td>Two Family House (2000)</td>\n",
       "      <td>Drama</td>\n",
       "    </tr>\n",
       "    <tr>\n",
       "      <th>3882</th>\n",
       "      <td>3952</td>\n",
       "      <td>Contender, The (2000)</td>\n",
       "      <td>Drama|Thriller</td>\n",
       "    </tr>\n",
       "  </tbody>\n",
       "</table>\n",
       "</div>"
      ],
      "text/plain": [
       "      item_id                       title          genres\n",
       "3878     3948     Meet the Parents (2000)          Comedy\n",
       "3879     3949  Requiem for a Dream (2000)           Drama\n",
       "3880     3950            Tigerland (2000)           Drama\n",
       "3881     3951     Two Family House (2000)           Drama\n",
       "3882     3952       Contender, The (2000)  Drama|Thriller"
      ]
     },
     "execution_count": 5,
     "metadata": {},
     "output_type": "execute_result"
    }
   ],
   "source": [
    "df_items = pd.read_parquet('movies.parquet')\n",
    "df_items.tail()"
   ]
  },
  {
   "cell_type": "markdown",
   "metadata": {},
   "source": [
    "# Pre-processing of data"
   ]
  },
  {
   "cell_type": "code",
   "execution_count": 6,
   "metadata": {
    "colab": {
     "base_uri": "https://localhost:8080/",
     "height": 238
    },
    "executionInfo": {
     "elapsed": 257,
     "status": "ok",
     "timestamp": 1670114109834,
     "user": {
      "displayName": "João Felipe Guedes da Silva",
      "userId": "13393236569075240373"
     },
     "user_tz": 180
    },
    "id": "POsog3FZNzes",
    "outputId": "fb095648-f0a0-4fac-bbb6-f38f1f18d47f"
   },
   "outputs": [
    {
     "data": {
      "text/html": [
       "<div>\n",
       "<style scoped>\n",
       "    .dataframe tbody tr th:only-of-type {\n",
       "        vertical-align: middle;\n",
       "    }\n",
       "\n",
       "    .dataframe tbody tr th {\n",
       "        vertical-align: top;\n",
       "    }\n",
       "\n",
       "    .dataframe thead th {\n",
       "        text-align: right;\n",
       "    }\n",
       "</style>\n",
       "<table border=\"1\" class=\"dataframe\">\n",
       "  <thead>\n",
       "    <tr style=\"text-align: right;\">\n",
       "      <th></th>\n",
       "      <th>title</th>\n",
       "      <th>genres</th>\n",
       "      <th>year</th>\n",
       "    </tr>\n",
       "    <tr>\n",
       "      <th>item_id</th>\n",
       "      <th></th>\n",
       "      <th></th>\n",
       "      <th></th>\n",
       "    </tr>\n",
       "  </thead>\n",
       "  <tbody>\n",
       "    <tr>\n",
       "      <th>3948</th>\n",
       "      <td>Meet the Parents (2000)</td>\n",
       "      <td>[Comedy]</td>\n",
       "      <td>2000</td>\n",
       "    </tr>\n",
       "    <tr>\n",
       "      <th>3949</th>\n",
       "      <td>Requiem for a Dream (2000)</td>\n",
       "      <td>[Drama]</td>\n",
       "      <td>2000</td>\n",
       "    </tr>\n",
       "    <tr>\n",
       "      <th>3950</th>\n",
       "      <td>Tigerland (2000)</td>\n",
       "      <td>[Drama]</td>\n",
       "      <td>2000</td>\n",
       "    </tr>\n",
       "    <tr>\n",
       "      <th>3951</th>\n",
       "      <td>Two Family House (2000)</td>\n",
       "      <td>[Drama]</td>\n",
       "      <td>2000</td>\n",
       "    </tr>\n",
       "    <tr>\n",
       "      <th>3952</th>\n",
       "      <td>Contender, The (2000)</td>\n",
       "      <td>[Drama, Thriller]</td>\n",
       "      <td>2000</td>\n",
       "    </tr>\n",
       "  </tbody>\n",
       "</table>\n",
       "</div>"
      ],
      "text/plain": [
       "                              title             genres  year\n",
       "item_id                                                     \n",
       "3948        Meet the Parents (2000)           [Comedy]  2000\n",
       "3949     Requiem for a Dream (2000)            [Drama]  2000\n",
       "3950               Tigerland (2000)            [Drama]  2000\n",
       "3951        Two Family House (2000)            [Drama]  2000\n",
       "3952          Contender, The (2000)  [Drama, Thriller]  2000"
      ]
     },
     "execution_count": 6,
     "metadata": {},
     "output_type": "execute_result"
    }
   ],
   "source": [
    "def extract_year_from_title(title:str, regex='(\\d{4})'):\n",
    "    match = re.search(regex, title)\n",
    "    return None if match is None else match.group()\n",
    "\n",
    "def convert_genres_to_list(genres:str, separator='|'):\n",
    "    return genres.split(separator)\n",
    "\n",
    "df_items = pd.read_parquet('movies.parquet')\n",
    "df_items['genres'] = df_items['genres'].apply(convert_genres_to_list)\n",
    "df_items['year'] = df_items['title'].apply(extract_year_from_title)\n",
    "df_items.set_index('item_id', inplace=True)\n",
    "df_items.tail()"
   ]
  },
  {
   "cell_type": "markdown",
   "metadata": {
    "id": "LWO2vyOnNzes"
   },
   "source": [
    "# Defining training and validation datasets\n",
    "\n",
    "As FunkSVD is a model with trainable parameters, we can separate the dataset into training and validation to observe whether the training has good generalization.\n",
    "\n",
    "Given the sequential nature of movie consumption, we will use the `timestamp` field to make the break between training and validation: the first `train_size` records will be used as training and the rest as testing.\n",
    "\n",
    "Additionally, the `funk_svd` library requires the following column names:\n",
    "\n",
    "- `u_id`: user identifier\n",
    "- `i_id`: item identifier\n",
    "- `rating`: user _feedback_"
   ]
  },
  {
   "cell_type": "code",
   "execution_count": 7,
   "metadata": {},
   "outputs": [
    {
     "data": {
      "text/html": [
       "<div>\n",
       "<style scoped>\n",
       "    .dataframe tbody tr th:only-of-type {\n",
       "        vertical-align: middle;\n",
       "    }\n",
       "\n",
       "    .dataframe tbody tr th {\n",
       "        vertical-align: top;\n",
       "    }\n",
       "\n",
       "    .dataframe thead th {\n",
       "        text-align: right;\n",
       "    }\n",
       "</style>\n",
       "<table border=\"1\" class=\"dataframe\">\n",
       "  <thead>\n",
       "    <tr style=\"text-align: right;\">\n",
       "      <th></th>\n",
       "      <th>user_id</th>\n",
       "      <th>item_id</th>\n",
       "      <th>rating</th>\n",
       "      <th>timestamp</th>\n",
       "    </tr>\n",
       "  </thead>\n",
       "  <tbody>\n",
       "    <tr>\n",
       "      <th>0</th>\n",
       "      <td>1</td>\n",
       "      <td>1193</td>\n",
       "      <td>5</td>\n",
       "      <td>978300760</td>\n",
       "    </tr>\n",
       "    <tr>\n",
       "      <th>1</th>\n",
       "      <td>1</td>\n",
       "      <td>661</td>\n",
       "      <td>3</td>\n",
       "      <td>978302109</td>\n",
       "    </tr>\n",
       "    <tr>\n",
       "      <th>2</th>\n",
       "      <td>1</td>\n",
       "      <td>914</td>\n",
       "      <td>3</td>\n",
       "      <td>978301968</td>\n",
       "    </tr>\n",
       "    <tr>\n",
       "      <th>3</th>\n",
       "      <td>1</td>\n",
       "      <td>3408</td>\n",
       "      <td>4</td>\n",
       "      <td>978300275</td>\n",
       "    </tr>\n",
       "    <tr>\n",
       "      <th>4</th>\n",
       "      <td>1</td>\n",
       "      <td>2355</td>\n",
       "      <td>5</td>\n",
       "      <td>978824291</td>\n",
       "    </tr>\n",
       "  </tbody>\n",
       "</table>\n",
       "</div>"
      ],
      "text/plain": [
       "   user_id  item_id  rating  timestamp\n",
       "0        1     1193       5  978300760\n",
       "1        1      661       3  978302109\n",
       "2        1      914       3  978301968\n",
       "3        1     3408       4  978300275\n",
       "4        1     2355       5  978824291"
      ]
     },
     "execution_count": 7,
     "metadata": {},
     "output_type": "execute_result"
    }
   ],
   "source": [
    "df_ratings.head()"
   ]
  },
  {
   "cell_type": "code",
   "execution_count": 8,
   "metadata": {
    "colab": {
     "base_uri": "https://localhost:8080/"
    },
    "executionInfo": {
     "elapsed": 612,
     "status": "ok",
     "timestamp": 1670113956524,
     "user": {
      "displayName": "João Felipe Guedes da Silva",
      "userId": "13393236569075240373"
     },
     "user_tz": 180
    },
    "id": "tHsUwliqNzet",
    "outputId": "d48ea1fb-054f-484d-e637-07940b2ed1e0",
    "scrolled": true
   },
   "outputs": [
    {
     "name": "stdout",
     "output_type": "stream",
     "text": [
      "Train size:  (800167, 4)\n",
      "Valid size:  (200042, 4)\n"
     ]
    }
   ],
   "source": [
    "train_size = 0.8\n",
    "df_ratings.sort_values(by='timestamp', inplace=True)\n",
    "df_train_set, df_valid_set= np.split(df_ratings, [int(train_size * df_ratings.shape[0])])\n",
    "df_train_set.rename({'user_id': 'u_id', 'item_id': 'i_id'}, axis = 1, inplace=True)\n",
    "df_valid_set.rename({'user_id': 'u_id', 'item_id': 'i_id'}, axis = 1, inplace=True)\n",
    "print ('Train size: ', df_train_set.shape)\n",
    "print ('Valid size: ', df_valid_set.shape)"
   ]
  },
  {
   "cell_type": "markdown",
   "metadata": {
    "id": "idGD796HNzeu"
   },
   "source": [
    "# Training the model\n",
    "\n",
    "For this practical example we will use hyperparameters already explored in the literature for the MovieLens dataset. However, for other datasets it is necessary to search for hyperparameters that are ideal for the data in question. To read the hyperparameter definition, see [documentation](https://github.com/gbolmier/funk-svd/blob/master/funk_svd/svd.py).\n",
    "\n",
    "**Note**: To read more about hyperparameter testing, see the [HyperOpt](http://hyperopt.github.io/hyperopt/) library."
   ]
  },
  {
   "cell_type": "code",
   "execution_count": 9,
   "metadata": {
    "colab": {
     "base_uri": "https://localhost:8080/"
    },
    "executionInfo": {
     "elapsed": 236,
     "status": "ok",
     "timestamp": 1670114462853,
     "user": {
      "displayName": "João Felipe Guedes da Silva",
      "userId": "13393236569075240373"
     },
     "user_tz": 180
    },
    "id": "53VcyVecNzeu",
    "outputId": "b1e8b821-4a50-4126-c723-69cb4ab97336"
   },
   "outputs": [
    {
     "data": {
      "text/plain": [
       "<funk_svd.svd.SVD at 0x203d4470df0>"
      ]
     },
     "execution_count": 9,
     "metadata": {},
     "output_type": "execute_result"
    }
   ],
   "source": [
    "model = SVD(\n",
    "    lr=0.001, # Learning rate.\n",
    "    reg=0.005, # L2 regularization factor.\n",
    "    n_epochs=100, # Number of SGD iterations.\n",
    "    n_factors=30, # Number of latent factors.\n",
    "    early_stopping=True, # Whether or not to stop training based on a validation monitoring.\n",
    "    min_delta=0.0001, # Minimun delta to argue for an improvement.\n",
    "    shuffle=False, # Whether or not to shuffle the training set before each epoch.\n",
    "    min_rating=1, # Minimum value a rating should be clipped to at inference time.\n",
    "    max_rating=5 # Maximum value a rating should be clipped to at inference time.\n",
    ")\n",
    "model"
   ]
  },
  {
   "cell_type": "markdown",
   "metadata": {
    "id": "kUbrjxBvgmrQ"
   },
   "source": [
    "Training the model"
   ]
  },
  {
   "cell_type": "code",
   "execution_count": 10,
   "metadata": {
    "colab": {
     "base_uri": "https://localhost:8080/"
    },
    "executionInfo": {
     "elapsed": 10997,
     "status": "ok",
     "timestamp": 1670114510934,
     "user": {
      "displayName": "João Felipe Guedes da Silva",
      "userId": "13393236569075240373"
     },
     "user_tz": 180
    },
    "id": "E8Q5xRIwNzev",
    "outputId": "938b5c16-fa84-4be8-8408-4cee0ef1e610"
   },
   "outputs": [
    {
     "name": "stdout",
     "output_type": "stream",
     "text": [
      "Preprocessing data...\n",
      "\n",
      "Preprocessing data...\n",
      "\n",
      "Epoch 1/100  | val_loss: 1.06 - val_rmse: 1.03 - val_mae: 0.84 - took 1.1 sec\n",
      "Epoch 2/100  | val_loss: 1.01 - val_rmse: 1.00 - val_mae: 0.81 - took 0.1 sec\n",
      "Epoch 3/100  | val_loss: 0.98 - val_rmse: 0.99 - val_mae: 0.79 - took 0.1 sec\n",
      "Epoch 4/100  | val_loss: 0.96 - val_rmse: 0.98 - val_mae: 0.78 - took 0.1 sec\n",
      "Epoch 5/100  | val_loss: 0.95 - val_rmse: 0.98 - val_mae: 0.77 - took 0.1 sec\n",
      "Epoch 6/100  | val_loss: 0.94 - val_rmse: 0.97 - val_mae: 0.77 - took 0.1 sec\n",
      "Epoch 7/100  | val_loss: 0.94 - val_rmse: 0.97 - val_mae: 0.77 - took 0.1 sec\n",
      "Epoch 8/100  | val_loss: 0.93 - val_rmse: 0.97 - val_mae: 0.76 - took 0.1 sec\n",
      "Epoch 9/100  | val_loss: 0.93 - val_rmse: 0.96 - val_mae: 0.76 - took 0.1 sec\n",
      "Epoch 10/100 | val_loss: 0.93 - val_rmse: 0.96 - val_mae: 0.76 - took 0.1 sec\n",
      "Epoch 11/100 | val_loss: 0.92 - val_rmse: 0.96 - val_mae: 0.76 - took 0.1 sec\n",
      "Epoch 12/100 | val_loss: 0.92 - val_rmse: 0.96 - val_mae: 0.76 - took 0.1 sec\n",
      "Epoch 13/100 | val_loss: 0.92 - val_rmse: 0.96 - val_mae: 0.76 - took 0.1 sec\n",
      "Epoch 14/100 | val_loss: 0.92 - val_rmse: 0.96 - val_mae: 0.75 - took 0.1 sec\n",
      "Epoch 15/100 | val_loss: 0.92 - val_rmse: 0.96 - val_mae: 0.75 - took 0.1 sec\n",
      "Epoch 16/100 | val_loss: 0.91 - val_rmse: 0.96 - val_mae: 0.75 - took 0.1 sec\n",
      "Epoch 17/100 | val_loss: 0.91 - val_rmse: 0.96 - val_mae: 0.75 - took 0.1 sec\n",
      "Epoch 18/100 | val_loss: 0.91 - val_rmse: 0.96 - val_mae: 0.75 - took 0.1 sec\n",
      "Epoch 19/100 | val_loss: 0.91 - val_rmse: 0.95 - val_mae: 0.75 - took 0.1 sec\n",
      "Epoch 20/100 | val_loss: 0.91 - val_rmse: 0.95 - val_mae: 0.75 - took 0.1 sec\n",
      "Epoch 21/100 | val_loss: 0.91 - val_rmse: 0.95 - val_mae: 0.75 - took 0.1 sec\n",
      "Epoch 22/100 | val_loss: 0.91 - val_rmse: 0.95 - val_mae: 0.75 - took 0.1 sec\n",
      "Epoch 23/100 | val_loss: 0.91 - val_rmse: 0.95 - val_mae: 0.75 - took 0.1 sec\n",
      "Epoch 24/100 | val_loss: 0.91 - val_rmse: 0.95 - val_mae: 0.75 - took 0.1 sec\n",
      "Epoch 25/100 | val_loss: 0.91 - val_rmse: 0.95 - val_mae: 0.75 - took 0.1 sec\n",
      "Epoch 26/100 | val_loss: 0.91 - val_rmse: 0.95 - val_mae: 0.75 - took 0.1 sec\n",
      "Epoch 27/100 | val_loss: 0.91 - val_rmse: 0.95 - val_mae: 0.75 - took 0.1 sec\n",
      "Epoch 28/100 | val_loss: 0.91 - val_rmse: 0.95 - val_mae: 0.75 - took 0.1 sec\n",
      "Epoch 29/100 | val_loss: 0.91 - val_rmse: 0.95 - val_mae: 0.75 - took 0.1 sec\n",
      "Epoch 30/100 | val_loss: 0.91 - val_rmse: 0.95 - val_mae: 0.75 - took 0.1 sec\n",
      "Epoch 31/100 | val_loss: 0.90 - val_rmse: 0.95 - val_mae: 0.75 - took 0.1 sec\n",
      "Epoch 32/100 | val_loss: 0.90 - val_rmse: 0.95 - val_mae: 0.75 - took 0.1 sec\n",
      "Epoch 33/100 | val_loss: 0.90 - val_rmse: 0.95 - val_mae: 0.75 - took 0.1 sec\n",
      "Epoch 34/100 | val_loss: 0.90 - val_rmse: 0.95 - val_mae: 0.75 - took 0.1 sec\n",
      "Epoch 35/100 | val_loss: 0.90 - val_rmse: 0.95 - val_mae: 0.75 - took 0.1 sec\n",
      "Epoch 36/100 | val_loss: 0.90 - val_rmse: 0.95 - val_mae: 0.75 - took 0.1 sec\n",
      "Epoch 37/100 | val_loss: 0.90 - val_rmse: 0.95 - val_mae: 0.75 - took 0.1 sec\n",
      "Epoch 38/100 | val_loss: 0.90 - val_rmse: 0.95 - val_mae: 0.75 - took 0.1 sec\n",
      "Epoch 39/100 | val_loss: 0.90 - val_rmse: 0.95 - val_mae: 0.75 - took 0.1 sec\n",
      "Epoch 40/100 | val_loss: 0.90 - val_rmse: 0.95 - val_mae: 0.75 - took 0.1 sec\n",
      "Epoch 41/100 | val_loss: 0.90 - val_rmse: 0.95 - val_mae: 0.75 - took 0.1 sec\n",
      "Epoch 42/100 | val_loss: 0.90 - val_rmse: 0.95 - val_mae: 0.75 - took 0.1 sec\n",
      "Epoch 43/100 | val_loss: 0.90 - val_rmse: 0.95 - val_mae: 0.75 - took 0.1 sec\n",
      "Epoch 44/100 | val_loss: 0.90 - val_rmse: 0.95 - val_mae: 0.75 - took 0.1 sec\n",
      "Epoch 45/100 | val_loss: 0.90 - val_rmse: 0.95 - val_mae: 0.75 - took 0.1 sec\n",
      "Epoch 46/100 | val_loss: 0.90 - val_rmse: 0.95 - val_mae: 0.75 - took 0.1 sec\n",
      "Epoch 47/100 | val_loss: 0.90 - val_rmse: 0.95 - val_mae: 0.75 - took 0.1 sec\n",
      "Epoch 48/100 | val_loss: 0.90 - val_rmse: 0.95 - val_mae: 0.74 - took 0.1 sec\n",
      "Epoch 49/100 | val_loss: 0.89 - val_rmse: 0.95 - val_mae: 0.74 - took 0.1 sec\n",
      "Epoch 50/100 | val_loss: 0.89 - val_rmse: 0.95 - val_mae: 0.74 - took 0.1 sec\n",
      "Epoch 51/100 | val_loss: 0.89 - val_rmse: 0.95 - val_mae: 0.74 - took 0.1 sec\n",
      "Epoch 52/100 | val_loss: 0.89 - val_rmse: 0.95 - val_mae: 0.74 - took 0.1 sec\n",
      "Epoch 53/100 | val_loss: 0.89 - val_rmse: 0.95 - val_mae: 0.74 - took 0.1 sec\n",
      "Epoch 54/100 | val_loss: 0.89 - val_rmse: 0.94 - val_mae: 0.74 - took 0.1 sec\n",
      "Epoch 55/100 | val_loss: 0.89 - val_rmse: 0.94 - val_mae: 0.74 - took 0.1 sec\n",
      "Epoch 56/100 | val_loss: 0.89 - val_rmse: 0.94 - val_mae: 0.74 - took 0.1 sec\n",
      "Epoch 57/100 | val_loss: 0.89 - val_rmse: 0.94 - val_mae: 0.74 - took 0.1 sec\n",
      "Epoch 58/100 | val_loss: 0.89 - val_rmse: 0.94 - val_mae: 0.74 - took 0.1 sec\n",
      "Epoch 59/100 | val_loss: 0.89 - val_rmse: 0.94 - val_mae: 0.74 - took 0.1 sec\n",
      "Epoch 60/100 | val_loss: 0.89 - val_rmse: 0.94 - val_mae: 0.74 - took 0.1 sec\n",
      "Epoch 61/100 | val_loss: 0.89 - val_rmse: 0.94 - val_mae: 0.74 - took 0.1 sec\n",
      "Epoch 62/100 | val_loss: 0.89 - val_rmse: 0.94 - val_mae: 0.74 - took 0.1 sec\n",
      "Epoch 63/100 | val_loss: 0.89 - val_rmse: 0.94 - val_mae: 0.74 - took 0.1 sec\n",
      "Epoch 64/100 | val_loss: 0.89 - val_rmse: 0.94 - val_mae: 0.74 - took 0.1 sec\n",
      "Epoch 65/100 | val_loss: 0.89 - val_rmse: 0.94 - val_mae: 0.74 - took 0.1 sec\n",
      "Epoch 66/100 | val_loss: 0.89 - val_rmse: 0.94 - val_mae: 0.74 - took 0.1 sec\n",
      "Epoch 67/100 | val_loss: 0.89 - val_rmse: 0.94 - val_mae: 0.74 - took 0.1 sec\n",
      "Epoch 68/100 | val_loss: 0.89 - val_rmse: 0.94 - val_mae: 0.74 - took 0.1 sec\n",
      "\n",
      "Training took 7 sec\n"
     ]
    },
    {
     "data": {
      "text/plain": [
       "<funk_svd.svd.SVD at 0x203d4470df0>"
      ]
     },
     "execution_count": 10,
     "metadata": {},
     "output_type": "execute_result"
    }
   ],
   "source": [
    "model.fit(X=df_train_set, X_val=df_valid_set)"
   ]
  },
  {
   "cell_type": "markdown",
   "metadata": {
    "id": "wVGPYIlvNzev"
   },
   "source": [
    "# Evaluating training\n",
    "\n",
    "To validate whether there was _overfitting_ or _underfitting_ we can plot the evolution of the training and validation metrics. In particular, the `funk_svd` library provides us with 3 training metrics:\n",
    "\n",
    "- `Loss`: _Root Mean Squared Error_ (RMSE) to be optimized\n",
    "- `MAE`: _Mean Absolute Error_ (MAE) of the validation set\n",
    "- Validation Set `RMSE` _Root Mean Squared Error_"
   ]
  },
  {
   "cell_type": "markdown",
   "metadata": {
    "id": "dO4SSdJ9gtqU"
   },
   "source": [
    "Extracting training metrics"
   ]
  },
  {
   "cell_type": "code",
   "execution_count": 11,
   "metadata": {
    "colab": {
     "base_uri": "https://localhost:8080/",
     "height": 424
    },
    "executionInfo": {
     "elapsed": 279,
     "status": "ok",
     "timestamp": 1670114592240,
     "user": {
      "displayName": "João Felipe Guedes da Silva",
      "userId": "13393236569075240373"
     },
     "user_tz": 180
    },
    "id": "ZdBgoIxlgspd",
    "outputId": "b6b901bf-b3a0-44ff-a802-9487ec114dbb"
   },
   "outputs": [
    {
     "data": {
      "text/html": [
       "<div>\n",
       "<style scoped>\n",
       "    .dataframe tbody tr th:only-of-type {\n",
       "        vertical-align: middle;\n",
       "    }\n",
       "\n",
       "    .dataframe tbody tr th {\n",
       "        vertical-align: top;\n",
       "    }\n",
       "\n",
       "    .dataframe thead th {\n",
       "        text-align: right;\n",
       "    }\n",
       "</style>\n",
       "<table border=\"1\" class=\"dataframe\">\n",
       "  <thead>\n",
       "    <tr style=\"text-align: right;\">\n",
       "      <th></th>\n",
       "      <th>Loss</th>\n",
       "      <th>RMSE</th>\n",
       "      <th>MAE</th>\n",
       "    </tr>\n",
       "  </thead>\n",
       "  <tbody>\n",
       "    <tr>\n",
       "      <th>0</th>\n",
       "      <td>1.060575</td>\n",
       "      <td>1.029842</td>\n",
       "      <td>0.835089</td>\n",
       "    </tr>\n",
       "    <tr>\n",
       "      <th>1</th>\n",
       "      <td>1.008199</td>\n",
       "      <td>1.004091</td>\n",
       "      <td>0.805387</td>\n",
       "    </tr>\n",
       "    <tr>\n",
       "      <th>2</th>\n",
       "      <td>0.980960</td>\n",
       "      <td>0.990434</td>\n",
       "      <td>0.789730</td>\n",
       "    </tr>\n",
       "    <tr>\n",
       "      <th>3</th>\n",
       "      <td>0.964102</td>\n",
       "      <td>0.981887</td>\n",
       "      <td>0.780192</td>\n",
       "    </tr>\n",
       "    <tr>\n",
       "      <th>4</th>\n",
       "      <td>0.952601</td>\n",
       "      <td>0.976013</td>\n",
       "      <td>0.773788</td>\n",
       "    </tr>\n",
       "    <tr>\n",
       "      <th>...</th>\n",
       "      <td>...</td>\n",
       "      <td>...</td>\n",
       "      <td>...</td>\n",
       "    </tr>\n",
       "    <tr>\n",
       "      <th>64</th>\n",
       "      <td>0.889483</td>\n",
       "      <td>0.943124</td>\n",
       "      <td>0.742956</td>\n",
       "    </tr>\n",
       "    <tr>\n",
       "      <th>65</th>\n",
       "      <td>0.889277</td>\n",
       "      <td>0.943015</td>\n",
       "      <td>0.742903</td>\n",
       "    </tr>\n",
       "    <tr>\n",
       "      <th>66</th>\n",
       "      <td>0.889087</td>\n",
       "      <td>0.942914</td>\n",
       "      <td>0.742857</td>\n",
       "    </tr>\n",
       "    <tr>\n",
       "      <th>67</th>\n",
       "      <td>0.888914</td>\n",
       "      <td>0.942822</td>\n",
       "      <td>0.742818</td>\n",
       "    </tr>\n",
       "    <tr>\n",
       "      <th>68</th>\n",
       "      <td>0.000000</td>\n",
       "      <td>0.000000</td>\n",
       "      <td>0.000000</td>\n",
       "    </tr>\n",
       "  </tbody>\n",
       "</table>\n",
       "<p>69 rows × 3 columns</p>\n",
       "</div>"
      ],
      "text/plain": [
       "        Loss      RMSE       MAE\n",
       "0   1.060575  1.029842  0.835089\n",
       "1   1.008199  1.004091  0.805387\n",
       "2   0.980960  0.990434  0.789730\n",
       "3   0.964102  0.981887  0.780192\n",
       "4   0.952601  0.976013  0.773788\n",
       "..       ...       ...       ...\n",
       "64  0.889483  0.943124  0.742956\n",
       "65  0.889277  0.943015  0.742903\n",
       "66  0.889087  0.942914  0.742857\n",
       "67  0.888914  0.942822  0.742818\n",
       "68  0.000000  0.000000  0.000000\n",
       "\n",
       "[69 rows x 3 columns]"
      ]
     },
     "execution_count": 11,
     "metadata": {},
     "output_type": "execute_result"
    }
   ],
   "source": [
    "model.metrics_"
   ]
  },
  {
   "cell_type": "code",
   "execution_count": 12,
   "metadata": {
    "colab": {
     "base_uri": "https://localhost:8080/",
     "height": 549
    },
    "executionInfo": {
     "elapsed": 896,
     "status": "ok",
     "timestamp": 1670114616991,
     "user": {
      "displayName": "João Felipe Guedes da Silva",
      "userId": "13393236569075240373"
     },
     "user_tz": 180
    },
    "id": "5JEWpKdgNzev",
    "outputId": "b2a48739-5a04-4c28-c951-215a57bdf124"
   },
   "outputs": [
    {
     "data": {
      "text/plain": [
       "(<Figure size 1600x800 with 1 Axes>,\n",
       " <AxesSubplot:title={'center':'SVD train and valid metrics (68 epochs)'}, xlabel='Epoch'>)"
      ]
     },
     "execution_count": 12,
     "metadata": {},
     "output_type": "execute_result"
    },
    {
     "data": {
      "image/png": "[encoded data removed]",
      "text/plain": [
       "<Figure size 1600x800 with 1 Axes>"
      ]
     },
     "metadata": {},
     "output_type": "display_data"
    }
   ],
   "source": [
    "def plot_metrics_evolution(metrics:pd.DataFrame, figsize=(16,8)):\n",
    "    fig, ax = plt.subplots(figsize=figsize)\n",
    "    for metric_name in metrics.columns:\n",
    "        ax.plot(metrics[metric_name], label=metric_name)\n",
    "    ax.set_title(f'SVD train and valid metrics ({metrics.shape[0]} epochs)')\n",
    "    ax.set_xlabel('Epoch')\n",
    "    ax.legend()\n",
    "    ax.grid(True, linestyle='--')\n",
    "\n",
    "    return fig, ax\n",
    "\n",
    "plot_metrics_evolution(model.metrics_.head(-1))"
   ]
  },
  {
   "cell_type": "markdown",
   "metadata": {
    "id": "r9qOffHFNzev"
   },
   "source": [
    "To predict user ratings for items, we can use the `mode.predict()` method for a batch of user-item pairs:"
   ]
  },
  {
   "cell_type": "code",
   "execution_count": 13,
   "metadata": {
    "colab": {
     "base_uri": "https://localhost:8080/",
     "height": 206
    },
    "executionInfo": {
     "elapsed": 928,
     "status": "ok",
     "timestamp": 1670114718447,
     "user": {
      "displayName": "João Felipe Guedes da Silva",
      "userId": "13393236569075240373"
     },
     "user_tz": 180
    },
    "id": "NRMd8KaLNzew",
    "outputId": "a011da09-0713-46a4-f676-2dc657c054fe"
   },
   "outputs": [
    {
     "data": {
      "text/html": [
       "<div>\n",
       "<style scoped>\n",
       "    .dataframe tbody tr th:only-of-type {\n",
       "        vertical-align: middle;\n",
       "    }\n",
       "\n",
       "    .dataframe tbody tr th {\n",
       "        vertical-align: top;\n",
       "    }\n",
       "\n",
       "    .dataframe thead th {\n",
       "        text-align: right;\n",
       "    }\n",
       "</style>\n",
       "<table border=\"1\" class=\"dataframe\">\n",
       "  <thead>\n",
       "    <tr style=\"text-align: right;\">\n",
       "      <th></th>\n",
       "      <th>u_id</th>\n",
       "      <th>i_id</th>\n",
       "      <th>rating</th>\n",
       "      <th>timestamp</th>\n",
       "      <th>prediction</th>\n",
       "    </tr>\n",
       "  </thead>\n",
       "  <tbody>\n",
       "    <tr>\n",
       "      <th>314160</th>\n",
       "      <td>1875</td>\n",
       "      <td>1721</td>\n",
       "      <td>4</td>\n",
       "      <td>975768738</td>\n",
       "      <td>4.232899</td>\n",
       "    </tr>\n",
       "    <tr>\n",
       "      <th>314032</th>\n",
       "      <td>1875</td>\n",
       "      <td>2621</td>\n",
       "      <td>4</td>\n",
       "      <td>975768748</td>\n",
       "      <td>3.744571</td>\n",
       "    </tr>\n",
       "    <tr>\n",
       "      <th>94555</th>\n",
       "      <td>635</td>\n",
       "      <td>3095</td>\n",
       "      <td>5</td>\n",
       "      <td>975768756</td>\n",
       "      <td>4.622151</td>\n",
       "    </tr>\n",
       "    <tr>\n",
       "      <th>94640</th>\n",
       "      <td>635</td>\n",
       "      <td>36</td>\n",
       "      <td>5</td>\n",
       "      <td>975768756</td>\n",
       "      <td>4.488622</td>\n",
       "    </tr>\n",
       "    <tr>\n",
       "      <th>94578</th>\n",
       "      <td>635</td>\n",
       "      <td>608</td>\n",
       "      <td>5</td>\n",
       "      <td>975768756</td>\n",
       "      <td>4.426846</td>\n",
       "    </tr>\n",
       "  </tbody>\n",
       "</table>\n",
       "</div>"
      ],
      "text/plain": [
       "        u_id  i_id  rating  timestamp  prediction\n",
       "314160  1875  1721       4  975768738    4.232899\n",
       "314032  1875  2621       4  975768748    3.744571\n",
       "94555    635  3095       5  975768756    4.622151\n",
       "94640    635    36       5  975768756    4.488622\n",
       "94578    635   608       5  975768756    4.426846"
      ]
     },
     "execution_count": 13,
     "metadata": {},
     "output_type": "execute_result"
    }
   ],
   "source": [
    "df_valid_set['prediction'] = model.predict(df_valid_set)\n",
    "df_valid_set.head()"
   ]
  },
  {
   "cell_type": "markdown",
   "metadata": {
    "id": "2NH6D4UNNzew"
   },
   "source": [
    "Or we can make this prediction for a specific user-item pair using the `model.predict_pair()` method:"
   ]
  },
  {
   "cell_type": "code",
   "execution_count": 14,
   "metadata": {
    "executionInfo": {
     "elapsed": 266,
     "status": "ok",
     "timestamp": 1670114758802,
     "user": {
      "displayName": "João Felipe Guedes da Silva",
      "userId": "13393236569075240373"
     },
     "user_tz": 180
    },
    "id": "x3qcf4FoNzew"
   },
   "outputs": [],
   "source": [
    "item_id = 1721\n",
    "user_id = 1875"
   ]
  },
  {
   "cell_type": "code",
   "execution_count": 15,
   "metadata": {
    "colab": {
     "base_uri": "https://localhost:8080/",
     "height": 99
    },
    "executionInfo": {
     "elapsed": 246,
     "status": "ok",
     "timestamp": 1670114805276,
     "user": {
      "displayName": "João Felipe Guedes da Silva",
      "userId": "13393236569075240373"
     },
     "user_tz": 180
    },
    "id": "uNmMqPbNNzew",
    "outputId": "c4f92024-750c-4bd0-a66d-067883651042"
   },
   "outputs": [
    {
     "name": "stdout",
     "output_type": "stream",
     "text": [
      "Prediction for user 1875 to item 1721: 4.2328987879066435\n"
     ]
    },
    {
     "data": {
      "text/html": [
       "<div>\n",
       "<style scoped>\n",
       "    .dataframe tbody tr th:only-of-type {\n",
       "        vertical-align: middle;\n",
       "    }\n",
       "\n",
       "    .dataframe tbody tr th {\n",
       "        vertical-align: top;\n",
       "    }\n",
       "\n",
       "    .dataframe thead th {\n",
       "        text-align: right;\n",
       "    }\n",
       "</style>\n",
       "<table border=\"1\" class=\"dataframe\">\n",
       "  <thead>\n",
       "    <tr style=\"text-align: right;\">\n",
       "      <th></th>\n",
       "      <th>u_id</th>\n",
       "      <th>i_id</th>\n",
       "      <th>rating</th>\n",
       "      <th>timestamp</th>\n",
       "      <th>prediction</th>\n",
       "    </tr>\n",
       "  </thead>\n",
       "  <tbody>\n",
       "    <tr>\n",
       "      <th>314160</th>\n",
       "      <td>1875</td>\n",
       "      <td>1721</td>\n",
       "      <td>4</td>\n",
       "      <td>975768738</td>\n",
       "      <td>4.232899</td>\n",
       "    </tr>\n",
       "  </tbody>\n",
       "</table>\n",
       "</div>"
      ],
      "text/plain": [
       "        u_id  i_id  rating  timestamp  prediction\n",
       "314160  1875  1721       4  975768738    4.232899"
      ]
     },
     "execution_count": 15,
     "metadata": {},
     "output_type": "execute_result"
    }
   ],
   "source": [
    "def get_user_item_prediction(model, user_id, item_id):\n",
    "    prediction = model.predict_pair(user_id, item_id)\n",
    "    return prediction\n",
    "\n",
    "prediction = get_user_item_prediction(model, user_id, item_id)\n",
    "print (f'Prediction for user {user_id} to item {item_id}: {prediction}')\n",
    "df_valid_set.query('u_id == @user_id and i_id == @item_id')"
   ]
  },
  {
   "cell_type": "markdown",
   "metadata": {
    "id": "9l1ifwIuhbda"
   },
   "source": [
    "________________________"
   ]
  },
  {
   "cell_type": "markdown",
   "metadata": {
    "id": "M8lzATUlNzex"
   },
   "source": [
    "# Generating recommendations\n",
    "\n",
    "Once we have the model trained, we can use the `recommend_n_items` function below which receives:\n",
    "\n",
    "- `model`: trained FunkSVD model\n",
    "- `user_id`: identifier of the user who will receive the recommendations\n",
    "- `item_ids`: identifiers of items in the catalog that can be recommended\n",
    "- `n`: number of recommendations to be generated"
   ]
  },
  {
   "cell_type": "code",
   "execution_count": 16,
   "metadata": {
    "colab": {
     "base_uri": "https://localhost:8080/",
     "height": 394
    },
    "executionInfo": {
     "elapsed": 315,
     "status": "ok",
     "timestamp": 1670115275698,
     "user": {
      "displayName": "João Felipe Guedes da Silva",
      "userId": "13393236569075240373"
     },
     "user_tz": 180
    },
    "id": "6j51vGfRNzey",
    "outputId": "c2446950-e38e-4e21-ce67-345ef4629158"
   },
   "outputs": [
    {
     "data": {
      "text/html": [
       "<div>\n",
       "<style scoped>\n",
       "    .dataframe tbody tr th:only-of-type {\n",
       "        vertical-align: middle;\n",
       "    }\n",
       "\n",
       "    .dataframe tbody tr th {\n",
       "        vertical-align: top;\n",
       "    }\n",
       "\n",
       "    .dataframe thead th {\n",
       "        text-align: right;\n",
       "    }\n",
       "</style>\n",
       "<table border=\"1\" class=\"dataframe\">\n",
       "  <thead>\n",
       "    <tr style=\"text-align: right;\">\n",
       "      <th></th>\n",
       "      <th>user_id</th>\n",
       "      <th>score</th>\n",
       "    </tr>\n",
       "    <tr>\n",
       "      <th>item_id</th>\n",
       "      <th></th>\n",
       "      <th></th>\n",
       "    </tr>\n",
       "  </thead>\n",
       "  <tbody>\n",
       "    <tr>\n",
       "      <th>527</th>\n",
       "      <td>1875</td>\n",
       "      <td>4.819725</td>\n",
       "    </tr>\n",
       "    <tr>\n",
       "      <th>858</th>\n",
       "      <td>1875</td>\n",
       "      <td>4.666856</td>\n",
       "    </tr>\n",
       "    <tr>\n",
       "      <th>912</th>\n",
       "      <td>1875</td>\n",
       "      <td>4.607358</td>\n",
       "    </tr>\n",
       "    <tr>\n",
       "      <th>923</th>\n",
       "      <td>1875</td>\n",
       "      <td>4.585422</td>\n",
       "    </tr>\n",
       "    <tr>\n",
       "      <th>2762</th>\n",
       "      <td>1875</td>\n",
       "      <td>4.518267</td>\n",
       "    </tr>\n",
       "    <tr>\n",
       "      <th>2905</th>\n",
       "      <td>1875</td>\n",
       "      <td>4.489217</td>\n",
       "    </tr>\n",
       "    <tr>\n",
       "      <th>1148</th>\n",
       "      <td>1875</td>\n",
       "      <td>4.462940</td>\n",
       "    </tr>\n",
       "    <tr>\n",
       "      <th>1207</th>\n",
       "      <td>1875</td>\n",
       "      <td>4.459536</td>\n",
       "    </tr>\n",
       "    <tr>\n",
       "      <th>922</th>\n",
       "      <td>1875</td>\n",
       "      <td>4.457972</td>\n",
       "    </tr>\n",
       "    <tr>\n",
       "      <th>899</th>\n",
       "      <td>1875</td>\n",
       "      <td>4.446881</td>\n",
       "    </tr>\n",
       "  </tbody>\n",
       "</table>\n",
       "</div>"
      ],
      "text/plain": [
       "         user_id     score\n",
       "item_id                   \n",
       "527         1875  4.819725\n",
       "858         1875  4.666856\n",
       "912         1875  4.607358\n",
       "923         1875  4.585422\n",
       "2762        1875  4.518267\n",
       "2905        1875  4.489217\n",
       "1148        1875  4.462940\n",
       "1207        1875  4.459536\n",
       "922         1875  4.457972\n",
       "899         1875  4.446881"
      ]
     },
     "execution_count": 16,
     "metadata": {},
     "output_type": "execute_result"
    }
   ],
   "source": [
    "def recommend_n_items(model, user_id, item_ids:np.array, n=20):\n",
    "    df_predictions = pd.DataFrame()\n",
    "    df_predictions['i_id'] = item_ids\n",
    "    df_predictions['u_id'] = user_id\n",
    "    df_predictions['score'] = model.predict(df_predictions)\n",
    "\n",
    "    user_predictions = (\n",
    "        df_predictions\n",
    "        .sort_values(by='score', ascending=False)\n",
    "        .rename({'u_id': 'user_id', 'i_id': 'item_id'}, axis=1)\n",
    "        .set_index('item_id')\n",
    "    )\n",
    "\n",
    "    return user_predictions.head(n)\n",
    "\n",
    "item_ids = df_valid_set['i_id'].unique()\n",
    "user_recommendations = recommend_n_items(model, user_id, item_ids, n=10)\n",
    "user_recommendations"
   ]
  },
  {
   "cell_type": "markdown",
   "metadata": {
    "id": "bxXTGzV0Nzey"
   },
   "source": [
    "Attaching the item metadata, we obtain:"
   ]
  },
  {
   "cell_type": "code",
   "execution_count": 17,
   "metadata": {
    "colab": {
     "base_uri": "https://localhost:8080/",
     "height": 394
    },
    "executionInfo": {
     "elapsed": 261,
     "status": "ok",
     "timestamp": 1670115291866,
     "user": {
      "displayName": "João Felipe Guedes da Silva",
      "userId": "13393236569075240373"
     },
     "user_tz": 180
    },
    "id": "IPZwSbarNzey",
    "outputId": "3dd4ea83-6195-435d-e928-f60dab96b0aa"
   },
   "outputs": [
    {
     "data": {
      "text/html": [
       "<div>\n",
       "<style scoped>\n",
       "    .dataframe tbody tr th:only-of-type {\n",
       "        vertical-align: middle;\n",
       "    }\n",
       "\n",
       "    .dataframe tbody tr th {\n",
       "        vertical-align: top;\n",
       "    }\n",
       "\n",
       "    .dataframe thead th {\n",
       "        text-align: right;\n",
       "    }\n",
       "</style>\n",
       "<table border=\"1\" class=\"dataframe\">\n",
       "  <thead>\n",
       "    <tr style=\"text-align: right;\">\n",
       "      <th></th>\n",
       "      <th>user_id</th>\n",
       "      <th>score</th>\n",
       "      <th>title</th>\n",
       "      <th>genres</th>\n",
       "      <th>year</th>\n",
       "    </tr>\n",
       "    <tr>\n",
       "      <th>item_id</th>\n",
       "      <th></th>\n",
       "      <th></th>\n",
       "      <th></th>\n",
       "      <th></th>\n",
       "      <th></th>\n",
       "    </tr>\n",
       "  </thead>\n",
       "  <tbody>\n",
       "    <tr>\n",
       "      <th>527</th>\n",
       "      <td>1875</td>\n",
       "      <td>4.819725</td>\n",
       "      <td>Schindler's List (1993)</td>\n",
       "      <td>[Drama, War]</td>\n",
       "      <td>1993</td>\n",
       "    </tr>\n",
       "    <tr>\n",
       "      <th>858</th>\n",
       "      <td>1875</td>\n",
       "      <td>4.666856</td>\n",
       "      <td>Godfather, The (1972)</td>\n",
       "      <td>[Action, Crime, Drama]</td>\n",
       "      <td>1972</td>\n",
       "    </tr>\n",
       "    <tr>\n",
       "      <th>912</th>\n",
       "      <td>1875</td>\n",
       "      <td>4.607358</td>\n",
       "      <td>Casablanca (1942)</td>\n",
       "      <td>[Drama, Romance, War]</td>\n",
       "      <td>1942</td>\n",
       "    </tr>\n",
       "    <tr>\n",
       "      <th>923</th>\n",
       "      <td>1875</td>\n",
       "      <td>4.585422</td>\n",
       "      <td>Citizen Kane (1941)</td>\n",
       "      <td>[Drama]</td>\n",
       "      <td>1941</td>\n",
       "    </tr>\n",
       "    <tr>\n",
       "      <th>2762</th>\n",
       "      <td>1875</td>\n",
       "      <td>4.518267</td>\n",
       "      <td>Sixth Sense, The (1999)</td>\n",
       "      <td>[Thriller]</td>\n",
       "      <td>1999</td>\n",
       "    </tr>\n",
       "    <tr>\n",
       "      <th>2905</th>\n",
       "      <td>1875</td>\n",
       "      <td>4.489217</td>\n",
       "      <td>Sanjuro (1962)</td>\n",
       "      <td>[Action, Adventure]</td>\n",
       "      <td>1962</td>\n",
       "    </tr>\n",
       "    <tr>\n",
       "      <th>1148</th>\n",
       "      <td>1875</td>\n",
       "      <td>4.462940</td>\n",
       "      <td>Wrong Trousers, The (1993)</td>\n",
       "      <td>[Animation, Comedy]</td>\n",
       "      <td>1993</td>\n",
       "    </tr>\n",
       "    <tr>\n",
       "      <th>1207</th>\n",
       "      <td>1875</td>\n",
       "      <td>4.459536</td>\n",
       "      <td>To Kill a Mockingbird (1962)</td>\n",
       "      <td>[Drama]</td>\n",
       "      <td>1962</td>\n",
       "    </tr>\n",
       "    <tr>\n",
       "      <th>922</th>\n",
       "      <td>1875</td>\n",
       "      <td>4.457972</td>\n",
       "      <td>Sunset Blvd. (a.k.a. Sunset Boulevard) (1950)</td>\n",
       "      <td>[Film-Noir]</td>\n",
       "      <td>1950</td>\n",
       "    </tr>\n",
       "    <tr>\n",
       "      <th>899</th>\n",
       "      <td>1875</td>\n",
       "      <td>4.446881</td>\n",
       "      <td>Singin' in the Rain (1952)</td>\n",
       "      <td>[Musical, Romance]</td>\n",
       "      <td>1952</td>\n",
       "    </tr>\n",
       "  </tbody>\n",
       "</table>\n",
       "</div>"
      ],
      "text/plain": [
       "         user_id     score                                          title  \\\n",
       "item_id                                                                     \n",
       "527         1875  4.819725                        Schindler's List (1993)   \n",
       "858         1875  4.666856                          Godfather, The (1972)   \n",
       "912         1875  4.607358                              Casablanca (1942)   \n",
       "923         1875  4.585422                            Citizen Kane (1941)   \n",
       "2762        1875  4.518267                        Sixth Sense, The (1999)   \n",
       "2905        1875  4.489217                                 Sanjuro (1962)   \n",
       "1148        1875  4.462940                     Wrong Trousers, The (1993)   \n",
       "1207        1875  4.459536                   To Kill a Mockingbird (1962)   \n",
       "922         1875  4.457972  Sunset Blvd. (a.k.a. Sunset Boulevard) (1950)   \n",
       "899         1875  4.446881                     Singin' in the Rain (1952)   \n",
       "\n",
       "                         genres  year  \n",
       "item_id                                \n",
       "527                [Drama, War]  1993  \n",
       "858      [Action, Crime, Drama]  1972  \n",
       "912       [Drama, Romance, War]  1942  \n",
       "923                     [Drama]  1941  \n",
       "2762                 [Thriller]  1999  \n",
       "2905        [Action, Adventure]  1962  \n",
       "1148        [Animation, Comedy]  1993  \n",
       "1207                    [Drama]  1962  \n",
       "922                 [Film-Noir]  1950  \n",
       "899          [Musical, Romance]  1952  "
      ]
     },
     "execution_count": 17,
     "metadata": {},
     "output_type": "execute_result"
    }
   ],
   "source": [
    "user_recommendations.merge(df_items, left_index=True, right_index=True)"
   ]
  },
  {
   "cell_type": "markdown",
   "metadata": {
    "id": "dhdQq-oINzey"
   },
   "source": [
    "Finally, run the cell below several times to generate recommendations from random users."
   ]
  },
  {
   "cell_type": "code",
   "execution_count": 20,
   "metadata": {
    "colab": {
     "base_uri": "https://localhost:8080/",
     "height": 726
    },
    "executionInfo": {
     "elapsed": 324,
     "status": "ok",
     "timestamp": 1670115341481,
     "user": {
      "displayName": "João Felipe Guedes da Silva",
      "userId": "13393236569075240373"
     },
     "user_tz": 180
    },
    "id": "-lwa-p3yNzez",
    "outputId": "622c28e2-1579-437a-e39f-49ee5e928752"
   },
   "outputs": [
    {
     "name": "stdout",
     "output_type": "stream",
     "text": [
      "Recommendations for user 2873\n"
     ]
    },
    {
     "data": {
      "text/html": [
       "<div>\n",
       "<style scoped>\n",
       "    .dataframe tbody tr th:only-of-type {\n",
       "        vertical-align: middle;\n",
       "    }\n",
       "\n",
       "    .dataframe tbody tr th {\n",
       "        vertical-align: top;\n",
       "    }\n",
       "\n",
       "    .dataframe thead th {\n",
       "        text-align: right;\n",
       "    }\n",
       "</style>\n",
       "<table border=\"1\" class=\"dataframe\">\n",
       "  <thead>\n",
       "    <tr style=\"text-align: right;\">\n",
       "      <th></th>\n",
       "      <th>user_id</th>\n",
       "      <th>score</th>\n",
       "      <th>title</th>\n",
       "      <th>genres</th>\n",
       "      <th>year</th>\n",
       "    </tr>\n",
       "    <tr>\n",
       "      <th>item_id</th>\n",
       "      <th></th>\n",
       "      <th></th>\n",
       "      <th></th>\n",
       "      <th></th>\n",
       "      <th></th>\n",
       "    </tr>\n",
       "  </thead>\n",
       "  <tbody>\n",
       "    <tr>\n",
       "      <th>527</th>\n",
       "      <td>2873</td>\n",
       "      <td>4.656527</td>\n",
       "      <td>Schindler's List (1993)</td>\n",
       "      <td>[Drama, War]</td>\n",
       "      <td>1993</td>\n",
       "    </tr>\n",
       "    <tr>\n",
       "      <th>3753</th>\n",
       "      <td>2873</td>\n",
       "      <td>4.616512</td>\n",
       "      <td>Patriot, The (2000)</td>\n",
       "      <td>[Action, Drama, War]</td>\n",
       "      <td>2000</td>\n",
       "    </tr>\n",
       "    <tr>\n",
       "      <th>356</th>\n",
       "      <td>2873</td>\n",
       "      <td>4.609507</td>\n",
       "      <td>Forrest Gump (1994)</td>\n",
       "      <td>[Comedy, Romance, War]</td>\n",
       "      <td>1994</td>\n",
       "    </tr>\n",
       "    <tr>\n",
       "      <th>920</th>\n",
       "      <td>2873</td>\n",
       "      <td>4.594999</td>\n",
       "      <td>Gone with the Wind (1939)</td>\n",
       "      <td>[Drama, Romance, War]</td>\n",
       "      <td>1939</td>\n",
       "    </tr>\n",
       "    <tr>\n",
       "      <th>590</th>\n",
       "      <td>2873</td>\n",
       "      <td>4.467711</td>\n",
       "      <td>Dances with Wolves (1990)</td>\n",
       "      <td>[Adventure, Drama, Western]</td>\n",
       "      <td>1990</td>\n",
       "    </tr>\n",
       "    <tr>\n",
       "      <th>1721</th>\n",
       "      <td>2873</td>\n",
       "      <td>4.459608</td>\n",
       "      <td>Titanic (1997)</td>\n",
       "      <td>[Drama, Romance]</td>\n",
       "      <td>1997</td>\n",
       "    </tr>\n",
       "    <tr>\n",
       "      <th>2762</th>\n",
       "      <td>2873</td>\n",
       "      <td>4.454161</td>\n",
       "      <td>Sixth Sense, The (1999)</td>\n",
       "      <td>[Thriller]</td>\n",
       "      <td>1999</td>\n",
       "    </tr>\n",
       "    <tr>\n",
       "      <th>2081</th>\n",
       "      <td>2873</td>\n",
       "      <td>4.410308</td>\n",
       "      <td>Little Mermaid, The (1989)</td>\n",
       "      <td>[Animation, Children's, Comedy, Musical, Romance]</td>\n",
       "      <td>1989</td>\n",
       "    </tr>\n",
       "    <tr>\n",
       "      <th>919</th>\n",
       "      <td>2873</td>\n",
       "      <td>4.389215</td>\n",
       "      <td>Wizard of Oz, The (1939)</td>\n",
       "      <td>[Adventure, Children's, Drama, Musical]</td>\n",
       "      <td>1939</td>\n",
       "    </tr>\n",
       "    <tr>\n",
       "      <th>480</th>\n",
       "      <td>2873</td>\n",
       "      <td>4.371955</td>\n",
       "      <td>Jurassic Park (1993)</td>\n",
       "      <td>[Action, Adventure, Sci-Fi]</td>\n",
       "      <td>1993</td>\n",
       "    </tr>\n",
       "    <tr>\n",
       "      <th>3510</th>\n",
       "      <td>2873</td>\n",
       "      <td>4.363328</td>\n",
       "      <td>Frequency (2000)</td>\n",
       "      <td>[Drama, Thriller]</td>\n",
       "      <td>2000</td>\n",
       "    </tr>\n",
       "    <tr>\n",
       "      <th>318</th>\n",
       "      <td>2873</td>\n",
       "      <td>4.349186</td>\n",
       "      <td>Shawshank Redemption, The (1994)</td>\n",
       "      <td>[Drama]</td>\n",
       "      <td>1994</td>\n",
       "    </tr>\n",
       "    <tr>\n",
       "      <th>3030</th>\n",
       "      <td>2873</td>\n",
       "      <td>4.339467</td>\n",
       "      <td>Yojimbo (1961)</td>\n",
       "      <td>[Comedy, Drama, Western]</td>\n",
       "      <td>1961</td>\n",
       "    </tr>\n",
       "    <tr>\n",
       "      <th>110</th>\n",
       "      <td>2873</td>\n",
       "      <td>4.328464</td>\n",
       "      <td>Braveheart (1995)</td>\n",
       "      <td>[Action, Drama, War]</td>\n",
       "      <td>1995</td>\n",
       "    </tr>\n",
       "    <tr>\n",
       "      <th>953</th>\n",
       "      <td>2873</td>\n",
       "      <td>4.328011</td>\n",
       "      <td>It's a Wonderful Life (1946)</td>\n",
       "      <td>[Drama]</td>\n",
       "      <td>1946</td>\n",
       "    </tr>\n",
       "    <tr>\n",
       "      <th>1282</th>\n",
       "      <td>2873</td>\n",
       "      <td>4.324036</td>\n",
       "      <td>Fantasia (1940)</td>\n",
       "      <td>[Animation, Children's, Musical]</td>\n",
       "      <td>1940</td>\n",
       "    </tr>\n",
       "    <tr>\n",
       "      <th>1947</th>\n",
       "      <td>2873</td>\n",
       "      <td>4.309693</td>\n",
       "      <td>West Side Story (1961)</td>\n",
       "      <td>[Musical, Romance]</td>\n",
       "      <td>1961</td>\n",
       "    </tr>\n",
       "    <tr>\n",
       "      <th>916</th>\n",
       "      <td>2873</td>\n",
       "      <td>4.308261</td>\n",
       "      <td>Roman Holiday (1953)</td>\n",
       "      <td>[Comedy, Romance]</td>\n",
       "      <td>1953</td>\n",
       "    </tr>\n",
       "    <tr>\n",
       "      <th>2937</th>\n",
       "      <td>2873</td>\n",
       "      <td>4.289814</td>\n",
       "      <td>Palm Beach Story, The (1942)</td>\n",
       "      <td>[Comedy]</td>\n",
       "      <td>1942</td>\n",
       "    </tr>\n",
       "    <tr>\n",
       "      <th>1197</th>\n",
       "      <td>2873</td>\n",
       "      <td>4.273778</td>\n",
       "      <td>Princess Bride, The (1987)</td>\n",
       "      <td>[Action, Adventure, Comedy, Romance]</td>\n",
       "      <td>1987</td>\n",
       "    </tr>\n",
       "  </tbody>\n",
       "</table>\n",
       "</div>"
      ],
      "text/plain": [
       "         user_id     score                             title  \\\n",
       "item_id                                                        \n",
       "527         2873  4.656527           Schindler's List (1993)   \n",
       "3753        2873  4.616512               Patriot, The (2000)   \n",
       "356         2873  4.609507               Forrest Gump (1994)   \n",
       "920         2873  4.594999         Gone with the Wind (1939)   \n",
       "590         2873  4.467711         Dances with Wolves (1990)   \n",
       "1721        2873  4.459608                    Titanic (1997)   \n",
       "2762        2873  4.454161           Sixth Sense, The (1999)   \n",
       "2081        2873  4.410308        Little Mermaid, The (1989)   \n",
       "919         2873  4.389215          Wizard of Oz, The (1939)   \n",
       "480         2873  4.371955              Jurassic Park (1993)   \n",
       "3510        2873  4.363328                  Frequency (2000)   \n",
       "318         2873  4.349186  Shawshank Redemption, The (1994)   \n",
       "3030        2873  4.339467                    Yojimbo (1961)   \n",
       "110         2873  4.328464                 Braveheart (1995)   \n",
       "953         2873  4.328011      It's a Wonderful Life (1946)   \n",
       "1282        2873  4.324036                   Fantasia (1940)   \n",
       "1947        2873  4.309693            West Side Story (1961)   \n",
       "916         2873  4.308261              Roman Holiday (1953)   \n",
       "2937        2873  4.289814      Palm Beach Story, The (1942)   \n",
       "1197        2873  4.273778        Princess Bride, The (1987)   \n",
       "\n",
       "                                                    genres  year  \n",
       "item_id                                                           \n",
       "527                                           [Drama, War]  1993  \n",
       "3753                                  [Action, Drama, War]  2000  \n",
       "356                                 [Comedy, Romance, War]  1994  \n",
       "920                                  [Drama, Romance, War]  1939  \n",
       "590                            [Adventure, Drama, Western]  1990  \n",
       "1721                                      [Drama, Romance]  1997  \n",
       "2762                                            [Thriller]  1999  \n",
       "2081     [Animation, Children's, Comedy, Musical, Romance]  1989  \n",
       "919                [Adventure, Children's, Drama, Musical]  1939  \n",
       "480                            [Action, Adventure, Sci-Fi]  1993  \n",
       "3510                                     [Drama, Thriller]  2000  \n",
       "318                                                [Drama]  1994  \n",
       "3030                              [Comedy, Drama, Western]  1961  \n",
       "110                                   [Action, Drama, War]  1995  \n",
       "953                                                [Drama]  1946  \n",
       "1282                      [Animation, Children's, Musical]  1940  \n",
       "1947                                    [Musical, Romance]  1961  \n",
       "916                                      [Comedy, Romance]  1953  \n",
       "2937                                              [Comedy]  1942  \n",
       "1197                  [Action, Adventure, Comedy, Romance]  1987  "
      ]
     },
     "execution_count": 20,
     "metadata": {},
     "output_type": "execute_result"
    }
   ],
   "source": [
    "random_user_id = df_ratings['user_id'].sample().tolist()[0]\n",
    "print (f'Recommendations for user {random_user_id}')\n",
    "user_recommendations = recommend_n_items(model, random_user_id, item_ids, n=20)\n",
    "user_recommendations.merge(df_items, left_index=True, right_index=True)"
   ]
  },
  {
   "cell_type": "markdown",
   "metadata": {
    "id": "4Rh4AcKsmDXV"
   },
   "source": [
    "__________________________"
   ]
  },
  {
   "cell_type": "code",
   "execution_count": 19,
   "metadata": {
    "colab": {
     "base_uri": "https://localhost:8080/",
     "height": 206
    },
    "executionInfo": {
     "elapsed": 362,
     "status": "ok",
     "timestamp": 1669922369391,
     "user": {
      "displayName": "João Felipe Guedes da Silva",
      "userId": "13393236569075240373"
     },
     "user_tz": 180
    },
    "id": "irJraC08haua",
    "outputId": "56883edc-788c-4c05-aa93-cc671ec8f66e"
   },
   "outputs": [
    {
     "name": "stderr",
     "output_type": "stream",
     "text": [
      "100%|██████████████████████████████████████████████████████████████████████████████| 1783/1783 [00:34<00:00, 51.24it/s]\n"
     ]
    },
    {
     "data": {
      "text/html": [
       "<div>\n",
       "<style scoped>\n",
       "    .dataframe tbody tr th:only-of-type {\n",
       "        vertical-align: middle;\n",
       "    }\n",
       "\n",
       "    .dataframe tbody tr th {\n",
       "        vertical-align: top;\n",
       "    }\n",
       "\n",
       "    .dataframe thead th {\n",
       "        text-align: right;\n",
       "    }\n",
       "</style>\n",
       "<table border=\"1\" class=\"dataframe\">\n",
       "  <thead>\n",
       "    <tr style=\"text-align: right;\">\n",
       "      <th></th>\n",
       "      <th>user_id</th>\n",
       "      <th>y_score</th>\n",
       "    </tr>\n",
       "  </thead>\n",
       "  <tbody>\n",
       "    <tr>\n",
       "      <th>1778</th>\n",
       "      <td>6001</td>\n",
       "      <td>[{'item_id': 2019.0, 'score': 4.71740742830154...</td>\n",
       "    </tr>\n",
       "    <tr>\n",
       "      <th>1779</th>\n",
       "      <td>6002</td>\n",
       "      <td>[{'item_id': 34.0, 'score': 5.0}, {'item_id': ...</td>\n",
       "    </tr>\n",
       "    <tr>\n",
       "      <th>1780</th>\n",
       "      <td>6016</td>\n",
       "      <td>[{'item_id': 3134.0, 'score': 4.45265030577080...</td>\n",
       "    </tr>\n",
       "    <tr>\n",
       "      <th>1781</th>\n",
       "      <td>6028</td>\n",
       "      <td>[{'item_id': 2905.0, 'score': 4.47571769489299...</td>\n",
       "    </tr>\n",
       "    <tr>\n",
       "      <th>1782</th>\n",
       "      <td>6040</td>\n",
       "      <td>[{'item_id': 3030.0, 'score': 4.54648581280122...</td>\n",
       "    </tr>\n",
       "  </tbody>\n",
       "</table>\n",
       "</div>"
      ],
      "text/plain": [
       "      user_id                                            y_score\n",
       "1778     6001  [{'item_id': 2019.0, 'score': 4.71740742830154...\n",
       "1779     6002  [{'item_id': 34.0, 'score': 5.0}, {'item_id': ...\n",
       "1780     6016  [{'item_id': 3134.0, 'score': 4.45265030577080...\n",
       "1781     6028  [{'item_id': 2905.0, 'score': 4.47571769489299...\n",
       "1782     6040  [{'item_id': 3030.0, 'score': 4.54648581280122..."
      ]
     },
     "execution_count": 19,
     "metadata": {},
     "output_type": "execute_result"
    }
   ],
   "source": [
    "from tqdm import tqdm\n",
    "model_name = 'svd'\n",
    "n = 20\n",
    "catalog = df_items.index.values\n",
    "df_recommendations = pd.DataFrame()\n",
    "for user_id in tqdm(df_valid_set['u_id'].unique()):\n",
    "  user_known_items = df_train_set.query('u_id == @user_id')['i_id'].unique()\n",
    "  recommendable_items = np.array(list(set(catalog)-set(user_known_items)))\n",
    "  user_recommendations = recommend_n_items(model, user_id, recommendable_items, n).reset_index(drop=False)\n",
    "  user_recommendations['user_id'] = user_id\n",
    "  df_recommendations = pd.concat([df_recommendations, user_recommendations])\n",
    "\n",
    "df_recommendations['y_score'] = df_recommendations.apply(lambda x: {'item_id': x['item_id'], 'score': x['score']}, axis=1)\n",
    "df_recommendations = df_recommendations.groupby('user_id').agg({'y_score': list}).reset_index(drop=False)\n",
    "df_recommendations.tail()\n"
   ]
  },
  {
   "cell_type": "code",
   "execution_count": 21,
   "metadata": {
    "colab": {
     "base_uri": "https://localhost:8080/",
     "height": 206
    },
    "executionInfo": {
     "elapsed": 3196,
     "status": "ok",
     "timestamp": 1669922463966,
     "user": {
      "displayName": "João Felipe Guedes da Silva",
      "userId": "13393236569075240373"
     },
     "user_tz": 180
    },
    "id": "FzklFKee_P1T",
    "outputId": "f31b98ea-5438-44d4-caee-b163b4224f32"
   },
   "outputs": [
    {
     "data": {
      "text/html": [
       "<div>\n",
       "<style scoped>\n",
       "    .dataframe tbody tr th:only-of-type {\n",
       "        vertical-align: middle;\n",
       "    }\n",
       "\n",
       "    .dataframe tbody tr th {\n",
       "        vertical-align: top;\n",
       "    }\n",
       "\n",
       "    .dataframe thead th {\n",
       "        text-align: right;\n",
       "    }\n",
       "</style>\n",
       "<table border=\"1\" class=\"dataframe\">\n",
       "  <thead>\n",
       "    <tr style=\"text-align: right;\">\n",
       "      <th></th>\n",
       "      <th>user_id</th>\n",
       "      <th>y_true</th>\n",
       "      <th>y_score</th>\n",
       "      <th>model</th>\n",
       "    </tr>\n",
       "  </thead>\n",
       "  <tbody>\n",
       "    <tr>\n",
       "      <th>1778</th>\n",
       "      <td>6001</td>\n",
       "      <td>[{'item_id': 3751.0, 'rating': 4.0}, {'item_id...</td>\n",
       "      <td>[{'item_id': 2019.0, 'score': 4.71740742830154...</td>\n",
       "      <td>svd</td>\n",
       "    </tr>\n",
       "    <tr>\n",
       "      <th>1779</th>\n",
       "      <td>6002</td>\n",
       "      <td>[{'item_id': 1942.0, 'rating': 5.0}, {'item_id...</td>\n",
       "      <td>[{'item_id': 34.0, 'score': 5.0}, {'item_id': ...</td>\n",
       "      <td>svd</td>\n",
       "    </tr>\n",
       "    <tr>\n",
       "      <th>1780</th>\n",
       "      <td>6016</td>\n",
       "      <td>[{'item_id': 3756.0, 'rating': 3.0}, {'item_id...</td>\n",
       "      <td>[{'item_id': 3134.0, 'score': 4.45265030577080...</td>\n",
       "      <td>svd</td>\n",
       "    </tr>\n",
       "    <tr>\n",
       "      <th>1781</th>\n",
       "      <td>6028</td>\n",
       "      <td>[{'item_id': 3000.0, 'rating': 4.0}]</td>\n",
       "      <td>[{'item_id': 2905.0, 'score': 4.47571769489299...</td>\n",
       "      <td>svd</td>\n",
       "    </tr>\n",
       "    <tr>\n",
       "      <th>1782</th>\n",
       "      <td>6040</td>\n",
       "      <td>[{'item_id': 3182.0, 'rating': 5.0}, {'item_id...</td>\n",
       "      <td>[{'item_id': 3030.0, 'score': 4.54648581280122...</td>\n",
       "      <td>svd</td>\n",
       "    </tr>\n",
       "  </tbody>\n",
       "</table>\n",
       "</div>"
      ],
      "text/plain": [
       "      user_id                                             y_true  \\\n",
       "1778     6001  [{'item_id': 3751.0, 'rating': 4.0}, {'item_id...   \n",
       "1779     6002  [{'item_id': 1942.0, 'rating': 5.0}, {'item_id...   \n",
       "1780     6016  [{'item_id': 3756.0, 'rating': 3.0}, {'item_id...   \n",
       "1781     6028               [{'item_id': 3000.0, 'rating': 4.0}]   \n",
       "1782     6040  [{'item_id': 3182.0, 'rating': 5.0}, {'item_id...   \n",
       "\n",
       "                                                y_score model  \n",
       "1778  [{'item_id': 2019.0, 'score': 4.71740742830154...   svd  \n",
       "1779  [{'item_id': 34.0, 'score': 5.0}, {'item_id': ...   svd  \n",
       "1780  [{'item_id': 3134.0, 'score': 4.45265030577080...   svd  \n",
       "1781  [{'item_id': 2905.0, 'score': 4.47571769489299...   svd  \n",
       "1782  [{'item_id': 3030.0, 'score': 4.54648581280122...   svd  "
      ]
     },
     "execution_count": 21,
     "metadata": {},
     "output_type": "execute_result"
    }
   ],
   "source": [
    "df_predictions = df_valid_set.rename({'u_id': 'user_id', 'i_id': 'item_id'}, axis=1)\n",
    "df_predictions['y_true'] = df_predictions.apply(lambda x: {'item_id': x['item_id'], 'rating': x['rating']}, axis=1)\n",
    "df_predictions = df_predictions.groupby('user_id').agg({'y_true': list}).reset_index(drop=False)\n",
    "df_predictions = df_predictions.merge(df_recommendations, on='user_id', how='inner')\n",
    "df_predictions['model'] = model_name\n",
    "df_predictions.tail()"
   ]
  },
  {
   "cell_type": "code",
   "execution_count": 22,
   "metadata": {
    "id": "1Fd2lt_4-0Pm"
   },
   "outputs": [],
   "source": [
    "column_order = ['model', 'user_id', 'y_true', 'y_score']\n",
    "df_predictions[column_order].to_parquet(f'valid_{model_name}.parquet', index=None)"
   ]
  }
 ],
 "metadata": {
  "colab": {
   "provenance": [],
   "toc_visible": true
  },
  "kernelspec": {
   "display_name": "Python 3 (ipykernel)",
   "language": "python",
   "name": "python3"
  },
  "language_info": {
   "codemirror_mode": {
    "name": "ipython",
    "version": 3
   },
   "file_extension": ".py",
   "mimetype": "text/x-python",
   "name": "python",
   "nbconvert_exporter": "python",
   "pygments_lexer": "ipython3",
   "version": "3.9.13"
  },
  "vscode": {
   "interpreter": {
    "hash": "40d3a090f54c6569ab1632332b64b2c03c39dcf918b08424e98f38b5ae0af88f"
   }
  }
 },
 "nbformat": 4,
 "nbformat_minor": 1
}
