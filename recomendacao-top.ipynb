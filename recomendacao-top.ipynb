{
 "cells": [
  {
   "cell_type": "markdown",
   "metadata": {
    "id": "KKJ8E-nHr8BP"
   },
   "source": [
    "# Top N Recommendation\n",
    "\n",
    "This notebook contains 2 Top N recommendation examples:\n",
    "\n",
    "- **Top N consumed**: the N items most consumed by users\n",
    "- **Top N rated**: the N best rated items by users\n",
    "\n",
    "The dataset to be used will be [MovieLens](https://grouplens.org/datasets/movielens/), whose exploratory analysis was carried out in the practical example of the module **Introduction to Recommendation Systems**."
   ]
  },
  {
   "cell_type": "code",
   "execution_count": 2,
   "metadata": {
    "executionInfo": {
     "elapsed": 233,
     "status": "ok",
     "timestamp": 1670088613258,
     "user": {
      "displayName": "João Felipe Guedes da Silva",
      "userId": "13393236569075240373"
     },
     "user_tz": 180
    },
    "id": "TZ34-4L8r8BU"
   },
   "outputs": [],
   "source": [
    "import os\n",
    "import sys\n",
    "import pandas as pd\n",
    "#from google.colab import files\n",
    "import matplotlib.pyplot as plt\n",
    "import matplotlib\n",
    "from cycler import cycler\n",
    "\n",
    "matplotlib.rcParams['axes.prop_cycle'] = cycler(color=['#007efd', '#FFC000', '#303030'])"
   ]
  },
  {
   "cell_type": "markdown",
   "metadata": {
    "id": "iX11jw4Ir8BW"
   },
   "source": [
    "# Loading and processing the dataset\n",
    "\n",
    "For more information on this session, see the `MovieLens Exploratory Analysis` notebook from module 01."
   ]
  },
  {
   "cell_type": "code",
   "execution_count": 6,
   "metadata": {},
   "outputs": [
    {
     "name": "stdout",
     "output_type": "stream",
     "text": [
      "Collecting pyarrow\n",
      "  Using cached pyarrow-15.0.2-cp39-cp39-win_amd64.whl (24.9 MB)\n",
      "Requirement already satisfied: numpy<2,>=1.16.6 in c:\\users\\dsant\\anaconda3\\lib\\site-packages (from pyarrow) (1.20.3)\n",
      "Installing collected packages: pyarrow\n",
      "Successfully installed pyarrow-15.0.2\n"
     ]
    },
    {
     "name": "stderr",
     "output_type": "stream",
     "text": [
      "WARNING: Ignoring invalid distribution -rotobuf (c:\\users\\dsant\\anaconda3\\lib\\site-packages)\n",
      "WARNING: Ignoring invalid distribution -umpy (c:\\users\\dsant\\anaconda3\\lib\\site-packages)\n",
      "WARNING: Ignoring invalid distribution -rotobuf (c:\\users\\dsant\\anaconda3\\lib\\site-packages)\n",
      "WARNING: Ignoring invalid distribution -umpy (c:\\users\\dsant\\anaconda3\\lib\\site-packages)\n",
      "\n",
      "[notice] A new release of pip is available: 23.1.2 -> 24.0\n",
      "[notice] To update, run: python.exe -m pip install --upgrade pip\n"
     ]
    }
   ],
   "source": [
    "#!pip install pyarrow"
   ]
  },
  {
   "cell_type": "code",
   "execution_count": 9,
   "metadata": {},
   "outputs": [
    {
     "data": {
      "text/html": [
       "<div>\n",
       "<style scoped>\n",
       "    .dataframe tbody tr th:only-of-type {\n",
       "        vertical-align: middle;\n",
       "    }\n",
       "\n",
       "    .dataframe tbody tr th {\n",
       "        vertical-align: top;\n",
       "    }\n",
       "\n",
       "    .dataframe thead th {\n",
       "        text-align: right;\n",
       "    }\n",
       "</style>\n",
       "<table border=\"1\" class=\"dataframe\">\n",
       "  <thead>\n",
       "    <tr style=\"text-align: right;\">\n",
       "      <th></th>\n",
       "      <th>user_id</th>\n",
       "      <th>item_id</th>\n",
       "      <th>rating</th>\n",
       "      <th>timestamp</th>\n",
       "    </tr>\n",
       "  </thead>\n",
       "  <tbody>\n",
       "    <tr>\n",
       "      <th>1000204</th>\n",
       "      <td>6040</td>\n",
       "      <td>1091</td>\n",
       "      <td>1</td>\n",
       "      <td>956716541</td>\n",
       "    </tr>\n",
       "    <tr>\n",
       "      <th>1000205</th>\n",
       "      <td>6040</td>\n",
       "      <td>1094</td>\n",
       "      <td>5</td>\n",
       "      <td>956704887</td>\n",
       "    </tr>\n",
       "    <tr>\n",
       "      <th>1000206</th>\n",
       "      <td>6040</td>\n",
       "      <td>562</td>\n",
       "      <td>5</td>\n",
       "      <td>956704746</td>\n",
       "    </tr>\n",
       "    <tr>\n",
       "      <th>1000207</th>\n",
       "      <td>6040</td>\n",
       "      <td>1096</td>\n",
       "      <td>4</td>\n",
       "      <td>956715648</td>\n",
       "    </tr>\n",
       "    <tr>\n",
       "      <th>1000208</th>\n",
       "      <td>6040</td>\n",
       "      <td>1097</td>\n",
       "      <td>4</td>\n",
       "      <td>956715569</td>\n",
       "    </tr>\n",
       "  </tbody>\n",
       "</table>\n",
       "</div>"
      ],
      "text/plain": [
       "         user_id  item_id  rating  timestamp\n",
       "1000204     6040     1091       1  956716541\n",
       "1000205     6040     1094       5  956704887\n",
       "1000206     6040      562       5  956704746\n",
       "1000207     6040     1096       4  956715648\n",
       "1000208     6040     1097       4  956715569"
      ]
     },
     "execution_count": 9,
     "metadata": {},
     "output_type": "execute_result"
    }
   ],
   "source": [
    "import pyarrow.parquet as pq\n",
    "\n",
    "# Carregar um arquivo parquet\n",
    "df_ratings = pq.read_table('ratings.parquet')\n",
    "\n",
    "# Converter para um DataFrame pandas\n",
    "df_ratings = df_ratings.to_pandas()\n",
    "\n",
    "# Visualizar as últimas linhas do DataFrame\n",
    "df_ratings.tail()"
   ]
  },
  {
   "cell_type": "markdown",
   "metadata": {
    "id": "XHf5dCo6thpo"
   },
   "source": [
    "## Arquivo de metadados dos itens\n",
    "\n",
    "Upload file `movies.parquet`"
   ]
  },
  {
   "cell_type": "code",
   "execution_count": 11,
   "metadata": {},
   "outputs": [
    {
     "data": {
      "text/html": [
       "<div>\n",
       "<style scoped>\n",
       "    .dataframe tbody tr th:only-of-type {\n",
       "        vertical-align: middle;\n",
       "    }\n",
       "\n",
       "    .dataframe tbody tr th {\n",
       "        vertical-align: top;\n",
       "    }\n",
       "\n",
       "    .dataframe thead th {\n",
       "        text-align: right;\n",
       "    }\n",
       "</style>\n",
       "<table border=\"1\" class=\"dataframe\">\n",
       "  <thead>\n",
       "    <tr style=\"text-align: right;\">\n",
       "      <th></th>\n",
       "      <th>item_id</th>\n",
       "      <th>title</th>\n",
       "      <th>genres</th>\n",
       "    </tr>\n",
       "  </thead>\n",
       "  <tbody>\n",
       "    <tr>\n",
       "      <th>3878</th>\n",
       "      <td>3948</td>\n",
       "      <td>Meet the Parents (2000)</td>\n",
       "      <td>Comedy</td>\n",
       "    </tr>\n",
       "    <tr>\n",
       "      <th>3879</th>\n",
       "      <td>3949</td>\n",
       "      <td>Requiem for a Dream (2000)</td>\n",
       "      <td>Drama</td>\n",
       "    </tr>\n",
       "    <tr>\n",
       "      <th>3880</th>\n",
       "      <td>3950</td>\n",
       "      <td>Tigerland (2000)</td>\n",
       "      <td>Drama</td>\n",
       "    </tr>\n",
       "    <tr>\n",
       "      <th>3881</th>\n",
       "      <td>3951</td>\n",
       "      <td>Two Family House (2000)</td>\n",
       "      <td>Drama</td>\n",
       "    </tr>\n",
       "    <tr>\n",
       "      <th>3882</th>\n",
       "      <td>3952</td>\n",
       "      <td>Contender, The (2000)</td>\n",
       "      <td>Drama|Thriller</td>\n",
       "    </tr>\n",
       "  </tbody>\n",
       "</table>\n",
       "</div>"
      ],
      "text/plain": [
       "      item_id                       title          genres\n",
       "3878     3948     Meet the Parents (2000)          Comedy\n",
       "3879     3949  Requiem for a Dream (2000)           Drama\n",
       "3880     3950            Tigerland (2000)           Drama\n",
       "3881     3951     Two Family House (2000)           Drama\n",
       "3882     3952       Contender, The (2000)  Drama|Thriller"
      ]
     },
     "execution_count": 11,
     "metadata": {},
     "output_type": "execute_result"
    }
   ],
   "source": [
    "# Carregar um arquivo parquet\n",
    "df_items = pq.read_table('movies.parquet')\n",
    "\n",
    "# Converter para um DataFrame pandas\n",
    "df_items = df_items.to_pandas()\n",
    "\n",
    "# Visualizar as últimas linhas do DataFrame\n",
    "df_items.tail()"
   ]
  },
  {
   "cell_type": "code",
   "execution_count": 12,
   "metadata": {
    "colab": {
     "base_uri": "https://localhost:8080/",
     "height": 206
    },
    "executionInfo": {
     "elapsed": 477,
     "status": "ok",
     "timestamp": 1670087750563,
     "user": {
      "displayName": "João Felipe Guedes da Silva",
      "userId": "13393236569075240373"
     },
     "user_tz": 180
    },
    "id": "1WOAvvfItrHI",
    "outputId": "2f860b64-4e75-44cb-cf66-524fce49b27c"
   },
   "outputs": [
    {
     "data": {
      "text/html": [
       "<div>\n",
       "<style scoped>\n",
       "    .dataframe tbody tr th:only-of-type {\n",
       "        vertical-align: middle;\n",
       "    }\n",
       "\n",
       "    .dataframe tbody tr th {\n",
       "        vertical-align: top;\n",
       "    }\n",
       "\n",
       "    .dataframe thead th {\n",
       "        text-align: right;\n",
       "    }\n",
       "</style>\n",
       "<table border=\"1\" class=\"dataframe\">\n",
       "  <thead>\n",
       "    <tr style=\"text-align: right;\">\n",
       "      <th></th>\n",
       "      <th>item_id</th>\n",
       "      <th>title</th>\n",
       "      <th>genres</th>\n",
       "    </tr>\n",
       "  </thead>\n",
       "  <tbody>\n",
       "    <tr>\n",
       "      <th>3878</th>\n",
       "      <td>3948</td>\n",
       "      <td>Meet the Parents (2000)</td>\n",
       "      <td>[Comedy]</td>\n",
       "    </tr>\n",
       "    <tr>\n",
       "      <th>3879</th>\n",
       "      <td>3949</td>\n",
       "      <td>Requiem for a Dream (2000)</td>\n",
       "      <td>[Drama]</td>\n",
       "    </tr>\n",
       "    <tr>\n",
       "      <th>3880</th>\n",
       "      <td>3950</td>\n",
       "      <td>Tigerland (2000)</td>\n",
       "      <td>[Drama]</td>\n",
       "    </tr>\n",
       "    <tr>\n",
       "      <th>3881</th>\n",
       "      <td>3951</td>\n",
       "      <td>Two Family House (2000)</td>\n",
       "      <td>[Drama]</td>\n",
       "    </tr>\n",
       "    <tr>\n",
       "      <th>3882</th>\n",
       "      <td>3952</td>\n",
       "      <td>Contender, The (2000)</td>\n",
       "      <td>[Drama, Thriller]</td>\n",
       "    </tr>\n",
       "  </tbody>\n",
       "</table>\n",
       "</div>"
      ],
      "text/plain": [
       "      item_id                       title             genres\n",
       "3878     3948     Meet the Parents (2000)           [Comedy]\n",
       "3879     3949  Requiem for a Dream (2000)            [Drama]\n",
       "3880     3950            Tigerland (2000)            [Drama]\n",
       "3881     3951     Two Family House (2000)            [Drama]\n",
       "3882     3952       Contender, The (2000)  [Drama, Thriller]"
      ]
     },
     "execution_count": 12,
     "metadata": {},
     "output_type": "execute_result"
    }
   ],
   "source": [
    "def convert_genres_to_list(genres:str, separator='|'):\n",
    "    return genres.split(separator)\n",
    "\n",
    "df_items = pd.read_parquet('movies.parquet')\n",
    "df_items['genres'] = df_items['genres'].apply(convert_genres_to_list)\n",
    "df_items.tail()"
   ]
  },
  {
   "cell_type": "markdown",
   "metadata": {
    "id": "xJNUe-1Yr8BZ"
   },
   "source": [
    "# Top N Consumed Recommendation\n",
    "\n",
    "In our first example of non-personalized recommendation we will recommend the items most consumed by users.\n",
    "\n",
    "In general, a recommendation function returns 2 types of information:\n",
    "\n",
    "- `item_id`: item identifier\n",
    "- `score`: _score_ to be used to order the offer for the user"
   ]
  },
  {
   "cell_type": "code",
   "execution_count": 17,
   "metadata": {
    "colab": {
     "base_uri": "https://localhost:8080/",
     "height": 363
    },
    "executionInfo": {
     "elapsed": 438,
     "status": "ok",
     "timestamp": 1670089052398,
     "user": {
      "displayName": "João Felipe Guedes da Silva",
      "userId": "13393236569075240373"
     },
     "user_tz": 180
    },
    "id": "PNCXePPkr8Ba",
    "outputId": "bbf5764a-efb2-42f2-a900-e3778570043e"
   },
   "outputs": [
    {
     "data": {
      "text/html": [
       "<div>\n",
       "<style scoped>\n",
       "    .dataframe tbody tr th:only-of-type {\n",
       "        vertical-align: middle;\n",
       "    }\n",
       "\n",
       "    .dataframe tbody tr th {\n",
       "        vertical-align: top;\n",
       "    }\n",
       "\n",
       "    .dataframe thead th {\n",
       "        text-align: right;\n",
       "    }\n",
       "</style>\n",
       "<table border=\"1\" class=\"dataframe\">\n",
       "  <thead>\n",
       "    <tr style=\"text-align: right;\">\n",
       "      <th></th>\n",
       "      <th>item_id</th>\n",
       "      <th>score</th>\n",
       "    </tr>\n",
       "  </thead>\n",
       "  <tbody>\n",
       "    <tr>\n",
       "      <th>2651</th>\n",
       "      <td>2858</td>\n",
       "      <td>3428</td>\n",
       "    </tr>\n",
       "    <tr>\n",
       "      <th>253</th>\n",
       "      <td>260</td>\n",
       "      <td>2991</td>\n",
       "    </tr>\n",
       "    <tr>\n",
       "      <th>1106</th>\n",
       "      <td>1196</td>\n",
       "      <td>2990</td>\n",
       "    </tr>\n",
       "    <tr>\n",
       "      <th>1120</th>\n",
       "      <td>1210</td>\n",
       "      <td>2883</td>\n",
       "    </tr>\n",
       "    <tr>\n",
       "      <th>466</th>\n",
       "      <td>480</td>\n",
       "      <td>2672</td>\n",
       "    </tr>\n",
       "    <tr>\n",
       "      <th>1848</th>\n",
       "      <td>2028</td>\n",
       "      <td>2653</td>\n",
       "    </tr>\n",
       "    <tr>\n",
       "      <th>575</th>\n",
       "      <td>589</td>\n",
       "      <td>2649</td>\n",
       "    </tr>\n",
       "    <tr>\n",
       "      <th>2374</th>\n",
       "      <td>2571</td>\n",
       "      <td>2590</td>\n",
       "    </tr>\n",
       "    <tr>\n",
       "      <th>1178</th>\n",
       "      <td>1270</td>\n",
       "      <td>2583</td>\n",
       "    </tr>\n",
       "    <tr>\n",
       "      <th>579</th>\n",
       "      <td>593</td>\n",
       "      <td>2578</td>\n",
       "    </tr>\n",
       "  </tbody>\n",
       "</table>\n",
       "</div>"
      ],
      "text/plain": [
       "      item_id  score\n",
       "2651     2858   3428\n",
       "253       260   2991\n",
       "1106     1196   2990\n",
       "1120     1210   2883\n",
       "466       480   2672\n",
       "1848     2028   2653\n",
       "575       589   2649\n",
       "2374     2571   2590\n",
       "1178     1270   2583\n",
       "579       593   2578"
      ]
     },
     "execution_count": 17,
     "metadata": {},
     "output_type": "execute_result"
    }
   ],
   "source": [
    "def recommend_top_n_consumptions(ratings:pd.DataFrame, n:int) -> pd.DataFrame:\n",
    "\n",
    "    recommendations = (\n",
    "        ratings\n",
    "        .groupby('item_id')\n",
    "        .count()['user_id']\n",
    "        .reset_index()\n",
    "        .rename({'user_id': 'score'}, axis=1)\n",
    "        .sort_values(by='score', ascending=False)\n",
    "    )\n",
    "\n",
    "    return recommendations.head(n)\n",
    "\n",
    "df_top_consumptions = recommend_top_n_consumptions(df_ratings, n=10)\n",
    "df_top_consumptions"
   ]
  },
  {
   "cell_type": "markdown",
   "metadata": {
    "id": "7-cyBG5Or8Bb"
   },
   "source": [
    "To better evaluate the recommendation result, we can **attach item metadata**"
   ]
  },
  {
   "cell_type": "code",
   "execution_count": 18,
   "metadata": {
    "colab": {
     "base_uri": "https://localhost:8080/",
     "height": 363
    },
    "executionInfo": {
     "elapsed": 281,
     "status": "ok",
     "timestamp": 1669985894988,
     "user": {
      "displayName": "João Felipe Guedes da Silva",
      "userId": "13393236569075240373"
     },
     "user_tz": 180
    },
    "id": "Q0yMnSIqr8Bb",
    "outputId": "9ea07375-20b4-4fb7-a124-94e66eff1b4f"
   },
   "outputs": [
    {
     "data": {
      "text/html": [
       "<div>\n",
       "<style scoped>\n",
       "    .dataframe tbody tr th:only-of-type {\n",
       "        vertical-align: middle;\n",
       "    }\n",
       "\n",
       "    .dataframe tbody tr th {\n",
       "        vertical-align: top;\n",
       "    }\n",
       "\n",
       "    .dataframe thead th {\n",
       "        text-align: right;\n",
       "    }\n",
       "</style>\n",
       "<table border=\"1\" class=\"dataframe\">\n",
       "  <thead>\n",
       "    <tr style=\"text-align: right;\">\n",
       "      <th></th>\n",
       "      <th>item_id</th>\n",
       "      <th>score</th>\n",
       "      <th>title</th>\n",
       "      <th>genres</th>\n",
       "    </tr>\n",
       "  </thead>\n",
       "  <tbody>\n",
       "    <tr>\n",
       "      <th>0</th>\n",
       "      <td>2858</td>\n",
       "      <td>3428</td>\n",
       "      <td>American Beauty (1999)</td>\n",
       "      <td>[Comedy, Drama]</td>\n",
       "    </tr>\n",
       "    <tr>\n",
       "      <th>1</th>\n",
       "      <td>260</td>\n",
       "      <td>2991</td>\n",
       "      <td>Star Wars: Episode IV - A New Hope (1977)</td>\n",
       "      <td>[Action, Adventure, Fantasy, Sci-Fi]</td>\n",
       "    </tr>\n",
       "    <tr>\n",
       "      <th>2</th>\n",
       "      <td>1196</td>\n",
       "      <td>2990</td>\n",
       "      <td>Star Wars: Episode V - The Empire Strikes Back...</td>\n",
       "      <td>[Action, Adventure, Drama, Sci-Fi, War]</td>\n",
       "    </tr>\n",
       "    <tr>\n",
       "      <th>3</th>\n",
       "      <td>1210</td>\n",
       "      <td>2883</td>\n",
       "      <td>Star Wars: Episode VI - Return of the Jedi (1983)</td>\n",
       "      <td>[Action, Adventure, Romance, Sci-Fi, War]</td>\n",
       "    </tr>\n",
       "    <tr>\n",
       "      <th>4</th>\n",
       "      <td>480</td>\n",
       "      <td>2672</td>\n",
       "      <td>Jurassic Park (1993)</td>\n",
       "      <td>[Action, Adventure, Sci-Fi]</td>\n",
       "    </tr>\n",
       "    <tr>\n",
       "      <th>5</th>\n",
       "      <td>2028</td>\n",
       "      <td>2653</td>\n",
       "      <td>Saving Private Ryan (1998)</td>\n",
       "      <td>[Action, Drama, War]</td>\n",
       "    </tr>\n",
       "    <tr>\n",
       "      <th>6</th>\n",
       "      <td>589</td>\n",
       "      <td>2649</td>\n",
       "      <td>Terminator 2: Judgment Day (1991)</td>\n",
       "      <td>[Action, Sci-Fi, Thriller]</td>\n",
       "    </tr>\n",
       "    <tr>\n",
       "      <th>7</th>\n",
       "      <td>2571</td>\n",
       "      <td>2590</td>\n",
       "      <td>Matrix, The (1999)</td>\n",
       "      <td>[Action, Sci-Fi, Thriller]</td>\n",
       "    </tr>\n",
       "    <tr>\n",
       "      <th>8</th>\n",
       "      <td>1270</td>\n",
       "      <td>2583</td>\n",
       "      <td>Back to the Future (1985)</td>\n",
       "      <td>[Comedy, Sci-Fi]</td>\n",
       "    </tr>\n",
       "    <tr>\n",
       "      <th>9</th>\n",
       "      <td>593</td>\n",
       "      <td>2578</td>\n",
       "      <td>Silence of the Lambs, The (1991)</td>\n",
       "      <td>[Drama, Thriller]</td>\n",
       "    </tr>\n",
       "  </tbody>\n",
       "</table>\n",
       "</div>"
      ],
      "text/plain": [
       "   item_id  score                                              title  \\\n",
       "0     2858   3428                             American Beauty (1999)   \n",
       "1      260   2991          Star Wars: Episode IV - A New Hope (1977)   \n",
       "2     1196   2990  Star Wars: Episode V - The Empire Strikes Back...   \n",
       "3     1210   2883  Star Wars: Episode VI - Return of the Jedi (1983)   \n",
       "4      480   2672                               Jurassic Park (1993)   \n",
       "5     2028   2653                         Saving Private Ryan (1998)   \n",
       "6      589   2649                  Terminator 2: Judgment Day (1991)   \n",
       "7     2571   2590                                 Matrix, The (1999)   \n",
       "8     1270   2583                          Back to the Future (1985)   \n",
       "9      593   2578                   Silence of the Lambs, The (1991)   \n",
       "\n",
       "                                      genres  \n",
       "0                            [Comedy, Drama]  \n",
       "1       [Action, Adventure, Fantasy, Sci-Fi]  \n",
       "2    [Action, Adventure, Drama, Sci-Fi, War]  \n",
       "3  [Action, Adventure, Romance, Sci-Fi, War]  \n",
       "4                [Action, Adventure, Sci-Fi]  \n",
       "5                       [Action, Drama, War]  \n",
       "6                 [Action, Sci-Fi, Thriller]  \n",
       "7                 [Action, Sci-Fi, Thriller]  \n",
       "8                           [Comedy, Sci-Fi]  \n",
       "9                          [Drama, Thriller]  "
      ]
     },
     "execution_count": 18,
     "metadata": {},
     "output_type": "execute_result"
    }
   ],
   "source": [
    "df_top_consumptions.merge(df_items, on='item_id', how='inner')"
   ]
  },
  {
   "cell_type": "markdown",
   "metadata": {
    "id": "EQ0yafTS_2ZG"
   },
   "source": [
    "____________"
   ]
  },
  {
   "cell_type": "markdown",
   "metadata": {
    "id": "DGB0HRCYr8Bc"
   },
   "source": [
    "# Top N Rated Recommendation\n",
    "\n",
    "Another top-N recommendation approach is to consider the items best rated by users using explicit feedback fields, such as _rating_. To do this, we will use the **average rating of a movie** in the MovieLens dataset."
   ]
  },
  {
   "cell_type": "code",
   "execution_count": 19,
   "metadata": {
    "colab": {
     "base_uri": "https://localhost:8080/",
     "height": 363
    },
    "executionInfo": {
     "elapsed": 6,
     "status": "ok",
     "timestamp": 1670089948778,
     "user": {
      "displayName": "João Felipe Guedes da Silva",
      "userId": "13393236569075240373"
     },
     "user_tz": 180
    },
    "id": "U42USf9Rr8Bc",
    "outputId": "5c77b0e5-3f51-4dfe-c406-aee62bd16088"
   },
   "outputs": [
    {
     "data": {
      "text/html": [
       "<div>\n",
       "<style scoped>\n",
       "    .dataframe tbody tr th:only-of-type {\n",
       "        vertical-align: middle;\n",
       "    }\n",
       "\n",
       "    .dataframe tbody tr th {\n",
       "        vertical-align: top;\n",
       "    }\n",
       "\n",
       "    .dataframe thead th {\n",
       "        text-align: right;\n",
       "    }\n",
       "</style>\n",
       "<table border=\"1\" class=\"dataframe\">\n",
       "  <thead>\n",
       "    <tr style=\"text-align: right;\">\n",
       "      <th></th>\n",
       "      <th>item_id</th>\n",
       "      <th>score</th>\n",
       "      <th>evaluations</th>\n",
       "    </tr>\n",
       "  </thead>\n",
       "  <tbody>\n",
       "    <tr>\n",
       "      <th>744</th>\n",
       "      <td>787</td>\n",
       "      <td>5.0</td>\n",
       "      <td>3</td>\n",
       "    </tr>\n",
       "    <tr>\n",
       "      <th>3010</th>\n",
       "      <td>3233</td>\n",
       "      <td>5.0</td>\n",
       "      <td>2</td>\n",
       "    </tr>\n",
       "    <tr>\n",
       "      <th>926</th>\n",
       "      <td>989</td>\n",
       "      <td>5.0</td>\n",
       "      <td>1</td>\n",
       "    </tr>\n",
       "    <tr>\n",
       "      <th>1652</th>\n",
       "      <td>1830</td>\n",
       "      <td>5.0</td>\n",
       "      <td>1</td>\n",
       "    </tr>\n",
       "    <tr>\n",
       "      <th>2955</th>\n",
       "      <td>3172</td>\n",
       "      <td>5.0</td>\n",
       "      <td>1</td>\n",
       "    </tr>\n",
       "    <tr>\n",
       "      <th>3054</th>\n",
       "      <td>3280</td>\n",
       "      <td>5.0</td>\n",
       "      <td>1</td>\n",
       "    </tr>\n",
       "    <tr>\n",
       "      <th>3152</th>\n",
       "      <td>3382</td>\n",
       "      <td>5.0</td>\n",
       "      <td>1</td>\n",
       "    </tr>\n",
       "    <tr>\n",
       "      <th>3367</th>\n",
       "      <td>3607</td>\n",
       "      <td>5.0</td>\n",
       "      <td>1</td>\n",
       "    </tr>\n",
       "    <tr>\n",
       "      <th>3414</th>\n",
       "      <td>3656</td>\n",
       "      <td>5.0</td>\n",
       "      <td>1</td>\n",
       "    </tr>\n",
       "    <tr>\n",
       "      <th>3635</th>\n",
       "      <td>3881</td>\n",
       "      <td>5.0</td>\n",
       "      <td>1</td>\n",
       "    </tr>\n",
       "  </tbody>\n",
       "</table>\n",
       "</div>"
      ],
      "text/plain": [
       "      item_id  score  evaluations\n",
       "744       787    5.0            3\n",
       "3010     3233    5.0            2\n",
       "926       989    5.0            1\n",
       "1652     1830    5.0            1\n",
       "2955     3172    5.0            1\n",
       "3054     3280    5.0            1\n",
       "3152     3382    5.0            1\n",
       "3367     3607    5.0            1\n",
       "3414     3656    5.0            1\n",
       "3635     3881    5.0            1"
      ]
     },
     "execution_count": 19,
     "metadata": {},
     "output_type": "execute_result"
    }
   ],
   "source": [
    "def recommend_top_n_evaluations(ratings:pd.DataFrame, n:int, min_evaluations:int=None) -> pd.DataFrame:\n",
    "    recommendations = (\n",
    "        ratings\n",
    "        .groupby('item_id')\n",
    "        .agg({'rating': 'mean', 'user_id': 'count'})\n",
    "        .reset_index()\n",
    "        .rename({'rating': 'score', 'user_id': 'evaluations'}, axis=1)\n",
    "        .sort_values(by=['score', 'evaluations'], ascending=False)\n",
    "    )\n",
    "\n",
    "    if min_evaluations is not None:\n",
    "        recommendations = recommendations.query('evaluations >= @min_evaluations')\n",
    "\n",
    "    return recommendations.head(n)\n",
    "\n",
    "recommend_top_n_evaluations(df_ratings, n=10, min_evaluations=None)"
   ]
  },
  {
   "cell_type": "code",
   "execution_count": 20,
   "metadata": {
    "colab": {
     "base_uri": "https://localhost:8080/",
     "height": 363
    },
    "executionInfo": {
     "elapsed": 223,
     "status": "ok",
     "timestamp": 1670089973267,
     "user": {
      "displayName": "João Felipe Guedes da Silva",
      "userId": "13393236569075240373"
     },
     "user_tz": 180
    },
    "id": "IBBsPSBKr8Bd",
    "outputId": "49a35f3b-56a9-47f1-a874-c72a1180a974"
   },
   "outputs": [
    {
     "data": {
      "text/html": [
       "<div>\n",
       "<style scoped>\n",
       "    .dataframe tbody tr th:only-of-type {\n",
       "        vertical-align: middle;\n",
       "    }\n",
       "\n",
       "    .dataframe tbody tr th {\n",
       "        vertical-align: top;\n",
       "    }\n",
       "\n",
       "    .dataframe thead th {\n",
       "        text-align: right;\n",
       "    }\n",
       "</style>\n",
       "<table border=\"1\" class=\"dataframe\">\n",
       "  <thead>\n",
       "    <tr style=\"text-align: right;\">\n",
       "      <th></th>\n",
       "      <th>item_id</th>\n",
       "      <th>score</th>\n",
       "      <th>evaluations</th>\n",
       "      <th>title</th>\n",
       "      <th>genres</th>\n",
       "    </tr>\n",
       "  </thead>\n",
       "  <tbody>\n",
       "    <tr>\n",
       "      <th>0</th>\n",
       "      <td>787</td>\n",
       "      <td>5.0</td>\n",
       "      <td>3</td>\n",
       "      <td>Gate of Heavenly Peace, The (1995)</td>\n",
       "      <td>[Documentary]</td>\n",
       "    </tr>\n",
       "    <tr>\n",
       "      <th>1</th>\n",
       "      <td>3233</td>\n",
       "      <td>5.0</td>\n",
       "      <td>2</td>\n",
       "      <td>Smashing Time (1967)</td>\n",
       "      <td>[Comedy]</td>\n",
       "    </tr>\n",
       "    <tr>\n",
       "      <th>2</th>\n",
       "      <td>989</td>\n",
       "      <td>5.0</td>\n",
       "      <td>1</td>\n",
       "      <td>Schlafes Bruder (Brother of Sleep) (1995)</td>\n",
       "      <td>[Drama]</td>\n",
       "    </tr>\n",
       "    <tr>\n",
       "      <th>3</th>\n",
       "      <td>1830</td>\n",
       "      <td>5.0</td>\n",
       "      <td>1</td>\n",
       "      <td>Follow the Bitch (1998)</td>\n",
       "      <td>[Comedy]</td>\n",
       "    </tr>\n",
       "    <tr>\n",
       "      <th>4</th>\n",
       "      <td>3172</td>\n",
       "      <td>5.0</td>\n",
       "      <td>1</td>\n",
       "      <td>Ulysses (Ulisse) (1954)</td>\n",
       "      <td>[Adventure]</td>\n",
       "    </tr>\n",
       "    <tr>\n",
       "      <th>5</th>\n",
       "      <td>3280</td>\n",
       "      <td>5.0</td>\n",
       "      <td>1</td>\n",
       "      <td>Baby, The (1973)</td>\n",
       "      <td>[Horror]</td>\n",
       "    </tr>\n",
       "    <tr>\n",
       "      <th>6</th>\n",
       "      <td>3382</td>\n",
       "      <td>5.0</td>\n",
       "      <td>1</td>\n",
       "      <td>Song of Freedom (1936)</td>\n",
       "      <td>[Drama]</td>\n",
       "    </tr>\n",
       "    <tr>\n",
       "      <th>7</th>\n",
       "      <td>3607</td>\n",
       "      <td>5.0</td>\n",
       "      <td>1</td>\n",
       "      <td>One Little Indian (1973)</td>\n",
       "      <td>[Comedy, Drama, Western]</td>\n",
       "    </tr>\n",
       "    <tr>\n",
       "      <th>8</th>\n",
       "      <td>3656</td>\n",
       "      <td>5.0</td>\n",
       "      <td>1</td>\n",
       "      <td>Lured (1947)</td>\n",
       "      <td>[Crime]</td>\n",
       "    </tr>\n",
       "    <tr>\n",
       "      <th>9</th>\n",
       "      <td>3881</td>\n",
       "      <td>5.0</td>\n",
       "      <td>1</td>\n",
       "      <td>Bittersweet Motel (2000)</td>\n",
       "      <td>[Documentary]</td>\n",
       "    </tr>\n",
       "  </tbody>\n",
       "</table>\n",
       "</div>"
      ],
      "text/plain": [
       "   item_id  score  evaluations                                      title  \\\n",
       "0      787    5.0            3         Gate of Heavenly Peace, The (1995)   \n",
       "1     3233    5.0            2                       Smashing Time (1967)   \n",
       "2      989    5.0            1  Schlafes Bruder (Brother of Sleep) (1995)   \n",
       "3     1830    5.0            1                    Follow the Bitch (1998)   \n",
       "4     3172    5.0            1                    Ulysses (Ulisse) (1954)   \n",
       "5     3280    5.0            1                           Baby, The (1973)   \n",
       "6     3382    5.0            1                     Song of Freedom (1936)   \n",
       "7     3607    5.0            1                   One Little Indian (1973)   \n",
       "8     3656    5.0            1                               Lured (1947)   \n",
       "9     3881    5.0            1                   Bittersweet Motel (2000)   \n",
       "\n",
       "                     genres  \n",
       "0             [Documentary]  \n",
       "1                  [Comedy]  \n",
       "2                   [Drama]  \n",
       "3                  [Comedy]  \n",
       "4               [Adventure]  \n",
       "5                  [Horror]  \n",
       "6                   [Drama]  \n",
       "7  [Comedy, Drama, Western]  \n",
       "8                   [Crime]  \n",
       "9             [Documentary]  "
      ]
     },
     "execution_count": 20,
     "metadata": {},
     "output_type": "execute_result"
    }
   ],
   "source": [
    "df_top_evaluations = recommend_top_n_evaluations(df_ratings, n=10, min_evaluations=None)\n",
    "df_top_evaluations.merge(df_items, on='item_id', how='inner')"
   ]
  },
  {
   "cell_type": "markdown",
   "metadata": {
    "id": "mFuFXVC6r8Bd"
   },
   "source": [
    "Note that some items may have high ratings, but they may have been given by few users. Thus, we can include a **hyperparameter** with the **minimum number of evaluations** that an item needs to have to be considered in the recommendation."
   ]
  },
  {
   "cell_type": "code",
   "execution_count": 21,
   "metadata": {
    "colab": {
     "base_uri": "https://localhost:8080/",
     "height": 363
    },
    "executionInfo": {
     "elapsed": 260,
     "status": "ok",
     "timestamp": 1670090033116,
     "user": {
      "displayName": "João Felipe Guedes da Silva",
      "userId": "13393236569075240373"
     },
     "user_tz": 180
    },
    "id": "E1XPw0RNr8Bd",
    "outputId": "3f0e774d-666d-4d46-adf3-fb16e8cf6a1b"
   },
   "outputs": [
    {
     "data": {
      "text/html": [
       "<div>\n",
       "<style scoped>\n",
       "    .dataframe tbody tr th:only-of-type {\n",
       "        vertical-align: middle;\n",
       "    }\n",
       "\n",
       "    .dataframe tbody tr th {\n",
       "        vertical-align: top;\n",
       "    }\n",
       "\n",
       "    .dataframe thead th {\n",
       "        text-align: right;\n",
       "    }\n",
       "</style>\n",
       "<table border=\"1\" class=\"dataframe\">\n",
       "  <thead>\n",
       "    <tr style=\"text-align: right;\">\n",
       "      <th></th>\n",
       "      <th>item_id</th>\n",
       "      <th>score</th>\n",
       "      <th>evaluations</th>\n",
       "      <th>title</th>\n",
       "      <th>genres</th>\n",
       "    </tr>\n",
       "  </thead>\n",
       "  <tbody>\n",
       "    <tr>\n",
       "      <th>0</th>\n",
       "      <td>2019</td>\n",
       "      <td>4.560510</td>\n",
       "      <td>628</td>\n",
       "      <td>Seven Samurai (The Magnificent Seven) (Shichin...</td>\n",
       "      <td>[Action, Drama]</td>\n",
       "    </tr>\n",
       "    <tr>\n",
       "      <th>1</th>\n",
       "      <td>318</td>\n",
       "      <td>4.554558</td>\n",
       "      <td>2227</td>\n",
       "      <td>Shawshank Redemption, The (1994)</td>\n",
       "      <td>[Drama]</td>\n",
       "    </tr>\n",
       "    <tr>\n",
       "      <th>2</th>\n",
       "      <td>858</td>\n",
       "      <td>4.524966</td>\n",
       "      <td>2223</td>\n",
       "      <td>Godfather, The (1972)</td>\n",
       "      <td>[Action, Crime, Drama]</td>\n",
       "    </tr>\n",
       "    <tr>\n",
       "      <th>3</th>\n",
       "      <td>745</td>\n",
       "      <td>4.520548</td>\n",
       "      <td>657</td>\n",
       "      <td>Close Shave, A (1995)</td>\n",
       "      <td>[Animation, Comedy, Thriller]</td>\n",
       "    </tr>\n",
       "    <tr>\n",
       "      <th>4</th>\n",
       "      <td>50</td>\n",
       "      <td>4.517106</td>\n",
       "      <td>1783</td>\n",
       "      <td>Usual Suspects, The (1995)</td>\n",
       "      <td>[Crime, Thriller]</td>\n",
       "    </tr>\n",
       "    <tr>\n",
       "      <th>5</th>\n",
       "      <td>527</td>\n",
       "      <td>4.510417</td>\n",
       "      <td>2304</td>\n",
       "      <td>Schindler's List (1993)</td>\n",
       "      <td>[Drama, War]</td>\n",
       "    </tr>\n",
       "    <tr>\n",
       "      <th>6</th>\n",
       "      <td>1148</td>\n",
       "      <td>4.507937</td>\n",
       "      <td>882</td>\n",
       "      <td>Wrong Trousers, The (1993)</td>\n",
       "      <td>[Animation, Comedy]</td>\n",
       "    </tr>\n",
       "    <tr>\n",
       "      <th>7</th>\n",
       "      <td>922</td>\n",
       "      <td>4.491489</td>\n",
       "      <td>470</td>\n",
       "      <td>Sunset Blvd. (a.k.a. Sunset Boulevard) (1950)</td>\n",
       "      <td>[Film-Noir]</td>\n",
       "    </tr>\n",
       "    <tr>\n",
       "      <th>8</th>\n",
       "      <td>1198</td>\n",
       "      <td>4.477725</td>\n",
       "      <td>2514</td>\n",
       "      <td>Raiders of the Lost Ark (1981)</td>\n",
       "      <td>[Action, Adventure]</td>\n",
       "    </tr>\n",
       "    <tr>\n",
       "      <th>9</th>\n",
       "      <td>904</td>\n",
       "      <td>4.476190</td>\n",
       "      <td>1050</td>\n",
       "      <td>Rear Window (1954)</td>\n",
       "      <td>[Mystery, Thriller]</td>\n",
       "    </tr>\n",
       "  </tbody>\n",
       "</table>\n",
       "</div>"
      ],
      "text/plain": [
       "   item_id     score  evaluations  \\\n",
       "0     2019  4.560510          628   \n",
       "1      318  4.554558         2227   \n",
       "2      858  4.524966         2223   \n",
       "3      745  4.520548          657   \n",
       "4       50  4.517106         1783   \n",
       "5      527  4.510417         2304   \n",
       "6     1148  4.507937          882   \n",
       "7      922  4.491489          470   \n",
       "8     1198  4.477725         2514   \n",
       "9      904  4.476190         1050   \n",
       "\n",
       "                                               title  \\\n",
       "0  Seven Samurai (The Magnificent Seven) (Shichin...   \n",
       "1                   Shawshank Redemption, The (1994)   \n",
       "2                              Godfather, The (1972)   \n",
       "3                              Close Shave, A (1995)   \n",
       "4                         Usual Suspects, The (1995)   \n",
       "5                            Schindler's List (1993)   \n",
       "6                         Wrong Trousers, The (1993)   \n",
       "7      Sunset Blvd. (a.k.a. Sunset Boulevard) (1950)   \n",
       "8                     Raiders of the Lost Ark (1981)   \n",
       "9                                 Rear Window (1954)   \n",
       "\n",
       "                          genres  \n",
       "0                [Action, Drama]  \n",
       "1                        [Drama]  \n",
       "2         [Action, Crime, Drama]  \n",
       "3  [Animation, Comedy, Thriller]  \n",
       "4              [Crime, Thriller]  \n",
       "5                   [Drama, War]  \n",
       "6            [Animation, Comedy]  \n",
       "7                    [Film-Noir]  \n",
       "8            [Action, Adventure]  \n",
       "9            [Mystery, Thriller]  "
      ]
     },
     "execution_count": 21,
     "metadata": {},
     "output_type": "execute_result"
    }
   ],
   "source": [
    "df_top_evaluations = recommend_top_n_evaluations(df_ratings, n=10, min_evaluations=100)\n",
    "df_top_evaluations.merge(df_items, on='item_id', how='inner')"
   ]
  },
  {
   "cell_type": "markdown",
   "metadata": {
    "id": "7KbsA82Hv6nX"
   },
   "source": [
    "_____________"
   ]
  },
  {
   "cell_type": "markdown",
   "metadata": {
    "id": "p60dpaiUv8vL"
   },
   "source": [
    "**Extra**: generation of results to evaluate metrics"
   ]
  },
  {
   "cell_type": "code",
   "execution_count": 22,
   "metadata": {
    "id": "MsZmOYE1wjc8"
   },
   "outputs": [],
   "source": [
    "import numpy as np\n",
    "train_size = 0.8\n",
    "df_ratings.sort_values(by='timestamp', inplace=True)\n",
    "df_train_set, df_valid_set= np.split(df_ratings, [int(train_size * df_ratings.shape[0])])"
   ]
  },
  {
   "cell_type": "code",
   "execution_count": 23,
   "metadata": {
    "id": "lB58G-5A1_n4"
   },
   "outputs": [],
   "source": [
    "recommendations = recommend_top_n_consumptions(df_ratings, n=20)\n",
    "scores = [{'item_id': x['item_id'], 'score': x['score']} for _, x in recommendations.iterrows()]"
   ]
  },
  {
   "cell_type": "code",
   "execution_count": 24,
   "metadata": {
    "colab": {
     "base_uri": "https://localhost:8080/",
     "height": 206
    },
    "executionInfo": {
     "elapsed": 2848,
     "status": "ok",
     "timestamp": 1669986061786,
     "user": {
      "displayName": "João Felipe Guedes da Silva",
      "userId": "13393236569075240373"
     },
     "user_tz": 180
    },
    "id": "vf2tdMJtwB3W",
    "outputId": "bd2837ec-2754-45a1-e4ca-f353c0adbaaa"
   },
   "outputs": [
    {
     "data": {
      "text/html": [
       "<div>\n",
       "<style scoped>\n",
       "    .dataframe tbody tr th:only-of-type {\n",
       "        vertical-align: middle;\n",
       "    }\n",
       "\n",
       "    .dataframe tbody tr th {\n",
       "        vertical-align: top;\n",
       "    }\n",
       "\n",
       "    .dataframe thead th {\n",
       "        text-align: right;\n",
       "    }\n",
       "</style>\n",
       "<table border=\"1\" class=\"dataframe\">\n",
       "  <thead>\n",
       "    <tr style=\"text-align: right;\">\n",
       "      <th></th>\n",
       "      <th>user_id</th>\n",
       "      <th>y_true</th>\n",
       "      <th>y_score</th>\n",
       "      <th>model</th>\n",
       "    </tr>\n",
       "  </thead>\n",
       "  <tbody>\n",
       "    <tr>\n",
       "      <th>1778</th>\n",
       "      <td>6001</td>\n",
       "      <td>[{'item_id': 3751, 'rating': 4}, {'item_id': 3...</td>\n",
       "      <td>[{'item_id': 2858, 'score': 3428}, {'item_id':...</td>\n",
       "      <td>top</td>\n",
       "    </tr>\n",
       "    <tr>\n",
       "      <th>1779</th>\n",
       "      <td>6002</td>\n",
       "      <td>[{'item_id': 1942, 'rating': 5}, {'item_id': 4...</td>\n",
       "      <td>[{'item_id': 2858, 'score': 3428}, {'item_id':...</td>\n",
       "      <td>top</td>\n",
       "    </tr>\n",
       "    <tr>\n",
       "      <th>1780</th>\n",
       "      <td>6016</td>\n",
       "      <td>[{'item_id': 3756, 'rating': 3}, {'item_id': 3...</td>\n",
       "      <td>[{'item_id': 2858, 'score': 3428}, {'item_id':...</td>\n",
       "      <td>top</td>\n",
       "    </tr>\n",
       "    <tr>\n",
       "      <th>1781</th>\n",
       "      <td>6028</td>\n",
       "      <td>[{'item_id': 3000, 'rating': 4}]</td>\n",
       "      <td>[{'item_id': 2858, 'score': 3428}, {'item_id':...</td>\n",
       "      <td>top</td>\n",
       "    </tr>\n",
       "    <tr>\n",
       "      <th>1782</th>\n",
       "      <td>6040</td>\n",
       "      <td>[{'item_id': 3182, 'rating': 5}, {'item_id': 2...</td>\n",
       "      <td>[{'item_id': 2858, 'score': 3428}, {'item_id':...</td>\n",
       "      <td>top</td>\n",
       "    </tr>\n",
       "  </tbody>\n",
       "</table>\n",
       "</div>"
      ],
      "text/plain": [
       "      user_id                                             y_true  \\\n",
       "1778     6001  [{'item_id': 3751, 'rating': 4}, {'item_id': 3...   \n",
       "1779     6002  [{'item_id': 1942, 'rating': 5}, {'item_id': 4...   \n",
       "1780     6016  [{'item_id': 3756, 'rating': 3}, {'item_id': 3...   \n",
       "1781     6028                   [{'item_id': 3000, 'rating': 4}]   \n",
       "1782     6040  [{'item_id': 3182, 'rating': 5}, {'item_id': 2...   \n",
       "\n",
       "                                                y_score model  \n",
       "1778  [{'item_id': 2858, 'score': 3428}, {'item_id':...   top  \n",
       "1779  [{'item_id': 2858, 'score': 3428}, {'item_id':...   top  \n",
       "1780  [{'item_id': 2858, 'score': 3428}, {'item_id':...   top  \n",
       "1781  [{'item_id': 2858, 'score': 3428}, {'item_id':...   top  \n",
       "1782  [{'item_id': 2858, 'score': 3428}, {'item_id':...   top  "
      ]
     },
     "execution_count": 24,
     "metadata": {},
     "output_type": "execute_result"
    }
   ],
   "source": [
    "from tqdm import tqdm\n",
    "model_name = 'top'\n",
    "df_predictions = df_valid_set\n",
    "df_predictions['y_true'] = df_predictions.apply(lambda x: {'item_id': x['item_id'], 'rating': x['rating']}, axis=1)\n",
    "df_predictions = df_predictions.groupby('user_id').agg({'y_true': list})\n",
    "df_predictions['y_score'] = df_predictions.apply(lambda x: scores, axis=1)\n",
    "df_predictions['model'] = model_name\n",
    "df_predictions.reset_index(drop=False, inplace=True)\n",
    "df_predictions.tail()\n"
   ]
  },
  {
   "cell_type": "code",
   "execution_count": 25,
   "metadata": {
    "id": "8QAeZbHP2IkE"
   },
   "outputs": [],
   "source": [
    "column_order = ['model', 'user_id', 'y_true', 'y_score']\n",
    "df_predictions[column_order].to_parquet(f'valid_{model_name}.parquet', index=None)"
   ]
  }
 ],
 "metadata": {
  "colab": {
   "provenance": []
  },
  "kernelspec": {
   "display_name": "Python 3 (ipykernel)",
   "language": "python",
   "name": "python3"
  },
  "language_info": {
   "codemirror_mode": {
    "name": "ipython",
    "version": 3
   },
   "file_extension": ".py",
   "mimetype": "text/x-python",
   "name": "python",
   "nbconvert_exporter": "python",
   "pygments_lexer": "ipython3",
   "version": "3.9.13"
  },
  "vscode": {
   "interpreter": {
    "hash": "949777d72b0d2535278d3dc13498b2535136f6dfe0678499012e853ee9abcab1"
   }
  }
 },
 "nbformat": 4,
 "nbformat_minor": 1
}
